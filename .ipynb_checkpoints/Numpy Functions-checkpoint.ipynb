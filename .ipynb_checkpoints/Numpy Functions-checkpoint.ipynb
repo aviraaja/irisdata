{
 "cells": [
  {
   "cell_type": "markdown",
   "id": "c5e7b257-694c-40de-8db4-e08c3f130112",
   "metadata": {},
   "source": [
    "### Numpy Functions"
   ]
  },
  {
   "cell_type": "code",
   "execution_count": null,
   "id": "ad3b861f-1ae8-4d6a-ac7a-4b585077576f",
   "metadata": {},
   "outputs": [],
   "source": [
    "1. np.array()\n",
    "2. array.ndim\n",
    "3. array.size\n",
    "4. array.shape\n",
    "5. array.dtype\n",
    "6. array.tolist()\n",
    "7. np.iinfo()\n",
    "8. array.reshape()\n",
    "9. np.nditer()\n",
    "10. np.ndenumerate()\n",
    "11. np.flatten()\n",
    "12. np.ravel()\n",
    "13. array.copy()\n",
    "14. np.zeros()\n",
    "15. np.ones()\n",
    "16. np.full()\n",
    "17. np.append()\n",
    "18. np.concatenate()\n",
    "19. np.arange()\n",
    "20. np.around()\n",
    "21. np.floor()\n",
    "22. np.ceil()\n",
    "23. np.linspace()\n",
    "24. np.eye()\n",
    "25. np.identity()\n",
    "26. np.random:\n",
    "    1. np.random.rand()\n",
    "    2. np.random.randint()\n",
    "    3. np.random.randn()\n",
    "    4. np.random.randf()\n",
    "    5. np.random.sample()\n",
    "    6. np.random.random_sample()\n",
    "    7. np.random.uniform\n",
    "    8. np.random.choice()\n",
    "    9. np.random.seed()\n",
    "\n",
    "27. np.sort()"
   ]
  },
  {
   "cell_type": "code",
   "execution_count": 1,
   "id": "19c41213-ca6e-4046-91cb-5e2fd1121edf",
   "metadata": {},
   "outputs": [],
   "source": [
    "import numpy as np"
   ]
  },
  {
   "cell_type": "code",
   "execution_count": null,
   "id": "a40a0fa0-faba-4edf-8e0a-230aa7553656",
   "metadata": {},
   "outputs": [],
   "source": []
  },
  {
   "cell_type": "markdown",
   "id": "6151264a-ba57-47e4-b256-6f4b8b866786",
   "metadata": {},
   "source": [
    "### 1. zeros()"
   ]
  },
  {
   "cell_type": "code",
   "execution_count": null,
   "id": "880ab065-d310-4f2e-bf18-0f1fedddc1f0",
   "metadata": {},
   "outputs": [],
   "source": [
    "Create an array of zero values"
   ]
  },
  {
   "cell_type": "code",
   "execution_count": 3,
   "id": "97485649-0372-4537-a7d9-2a1115f88fc5",
   "metadata": {},
   "outputs": [
    {
     "data": {
      "text/plain": [
       "array([0., 0., 0., 0., 0.])"
      ]
     },
     "execution_count": 3,
     "metadata": {},
     "output_type": "execute_result"
    }
   ],
   "source": [
    "arr1 = np.zeros(5)\n",
    "arr1"
   ]
  },
  {
   "cell_type": "code",
   "execution_count": 6,
   "id": "86cba308-d16d-4466-a5fa-8d19b2d786a0",
   "metadata": {},
   "outputs": [
    {
     "data": {
      "text/plain": [
       "array([0., 0., 0., 0., 0., 0., 0., 0., 0., 0., 0., 0., 0., 0., 0., 0., 0.,\n",
       "       0., 0., 0., 0., 0., 0., 0., 0., 0., 0., 0., 0., 0., 0., 0., 0., 0.,\n",
       "       0., 0., 0., 0., 0., 0., 0., 0., 0., 0., 0., 0., 0., 0., 0., 0.])"
      ]
     },
     "execution_count": 6,
     "metadata": {},
     "output_type": "execute_result"
    }
   ],
   "source": [
    "arr1 = np.zeros(50)\n",
    "arr1"
   ]
  },
  {
   "cell_type": "code",
   "execution_count": 8,
   "id": "0092a2ea-21b6-4784-b3b2-f80233e60097",
   "metadata": {},
   "outputs": [
    {
     "data": {
      "text/plain": [
       "dtype('float64')"
      ]
     },
     "execution_count": 8,
     "metadata": {},
     "output_type": "execute_result"
    }
   ],
   "source": [
    "arr1 = np.zeros(50)\n",
    "arr1.dtype"
   ]
  },
  {
   "cell_type": "code",
   "execution_count": 20,
   "id": "f1d508f2-2a74-40e2-8e6b-acda881d30a4",
   "metadata": {},
   "outputs": [
    {
     "data": {
      "text/plain": [
       "array([0, 0, 0, 0, 0, 0, 0, 0, 0, 0, 0, 0, 0, 0, 0, 0, 0, 0, 0, 0, 0, 0,\n",
       "       0, 0, 0, 0, 0, 0, 0, 0, 0, 0, 0, 0, 0, 0, 0, 0, 0, 0, 0, 0, 0, 0,\n",
       "       0, 0, 0, 0, 0, 0])"
      ]
     },
     "execution_count": 20,
     "metadata": {},
     "output_type": "execute_result"
    }
   ],
   "source": [
    "arr1 = np.zeros(50, dtype = int)\n",
    "arr1"
   ]
  },
  {
   "cell_type": "code",
   "execution_count": 22,
   "id": "ff1f2df4-0425-46cc-8eef-2bf2b13311aa",
   "metadata": {},
   "outputs": [
    {
     "data": {
      "text/plain": [
       "array([[0, 0, 0, 0],\n",
       "       [0, 0, 0, 0],\n",
       "       [0, 0, 0, 0]])"
      ]
     },
     "execution_count": 22,
     "metadata": {},
     "output_type": "execute_result"
    }
   ],
   "source": [
    "arr1 = np.zeros((3,4), dtype = int)\n",
    "arr1"
   ]
  },
  {
   "cell_type": "code",
   "execution_count": 23,
   "id": "8f1569a4-488b-4dcb-b2b8-2ea300563328",
   "metadata": {},
   "outputs": [
    {
     "data": {
      "text/plain": [
       "array([[0, 0, 0],\n",
       "       [0, 0, 0],\n",
       "       [0, 0, 0],\n",
       "       [0, 0, 0],\n",
       "       [0, 0, 0]])"
      ]
     },
     "execution_count": 23,
     "metadata": {},
     "output_type": "execute_result"
    }
   ],
   "source": [
    "arr1 = np.zeros((5,3), dtype = int)\n",
    "arr1"
   ]
  },
  {
   "cell_type": "markdown",
   "id": "93d2f6ba-db32-4635-b461-f60d358268a6",
   "metadata": {},
   "source": [
    "### 2. ones"
   ]
  },
  {
   "cell_type": "code",
   "execution_count": null,
   "id": "62e96234-3cf0-4e91-96ae-50ae5acc4eb2",
   "metadata": {},
   "outputs": [],
   "source": [
    "Used to create an array of One(1) values"
   ]
  },
  {
   "cell_type": "code",
   "execution_count": 12,
   "id": "2bef664f-08f8-4f6d-ab64-82582f4b75f9",
   "metadata": {},
   "outputs": [
    {
     "data": {
      "text/plain": [
       "array([1., 1., 1., 1., 1., 1., 1., 1., 1., 1.])"
      ]
     },
     "execution_count": 12,
     "metadata": {},
     "output_type": "execute_result"
    }
   ],
   "source": [
    "arr1 = np.ones(10)\n",
    "arr1"
   ]
  },
  {
   "cell_type": "code",
   "execution_count": 24,
   "id": "2d8d6309-7b1d-417d-abd9-015ecf4416c4",
   "metadata": {},
   "outputs": [
    {
     "data": {
      "text/plain": [
       "array([1, 1, 1, 1, 1, 1, 1, 1, 1, 1])"
      ]
     },
     "execution_count": 24,
     "metadata": {},
     "output_type": "execute_result"
    }
   ],
   "source": [
    "arr1 = np.ones(10, int)\n",
    "arr1"
   ]
  },
  {
   "cell_type": "code",
   "execution_count": 25,
   "id": "7664babb-27f7-4f13-a153-c3e6752fc9ff",
   "metadata": {},
   "outputs": [
    {
     "data": {
      "text/plain": [
       "array([[1, 1, 1, 1, 1, 1],\n",
       "       [1, 1, 1, 1, 1, 1],\n",
       "       [1, 1, 1, 1, 1, 1]])"
      ]
     },
     "execution_count": 25,
     "metadata": {},
     "output_type": "execute_result"
    }
   ],
   "source": [
    "arr1 = np.ones((3,6), int)\n",
    "arr1"
   ]
  },
  {
   "cell_type": "markdown",
   "id": "9a94d323-5b15-440c-889c-fc1f493e409a",
   "metadata": {},
   "source": [
    "### 3. full"
   ]
  },
  {
   "cell_type": "code",
   "execution_count": null,
   "id": "377a4301-6b32-4957-930e-832e651014e4",
   "metadata": {},
   "outputs": [],
   "source": [
    "np.full(shape,values)"
   ]
  },
  {
   "cell_type": "code",
   "execution_count": 16,
   "id": "17d84b38-042a-40d8-ac59-356a63df15fa",
   "metadata": {},
   "outputs": [
    {
     "data": {
      "text/plain": [
       "array([3, 3, 3, 3, 3, 3, 3, 3, 3, 3])"
      ]
     },
     "execution_count": 16,
     "metadata": {},
     "output_type": "execute_result"
    }
   ],
   "source": [
    "np.full(10,3)"
   ]
  },
  {
   "cell_type": "code",
   "execution_count": 18,
   "id": "0960f056-2b6a-4bfb-8c35-4120c5735765",
   "metadata": {},
   "outputs": [
    {
     "data": {
      "text/plain": [
       "array([1, 1, 1, 1, 1, 1, 1, 1, 1, 1])"
      ]
     },
     "execution_count": 18,
     "metadata": {},
     "output_type": "execute_result"
    }
   ],
   "source": [
    "np.full(10,1)"
   ]
  },
  {
   "cell_type": "code",
   "execution_count": 26,
   "id": "bbd59821-4889-4faf-831e-c164d976630c",
   "metadata": {},
   "outputs": [
    {
     "data": {
      "text/plain": [
       "array([0, 0, 0, 0, 0, 0, 0, 0, 0, 0])"
      ]
     },
     "execution_count": 26,
     "metadata": {},
     "output_type": "execute_result"
    }
   ],
   "source": [
    "np.full(10,0)"
   ]
  },
  {
   "cell_type": "code",
   "execution_count": 29,
   "id": "7bdb4cb8-8e8e-4d98-92fe-c2e48157de6b",
   "metadata": {},
   "outputs": [
    {
     "data": {
      "text/plain": [
       "array([[5, 5, 5],\n",
       "       [5, 5, 5],\n",
       "       [5, 5, 5],\n",
       "       [5, 5, 5],\n",
       "       [5, 5, 5]])"
      ]
     },
     "execution_count": 29,
     "metadata": {},
     "output_type": "execute_result"
    }
   ],
   "source": [
    "np.full((5,3),5)"
   ]
  },
  {
   "cell_type": "code",
   "execution_count": 31,
   "id": "e348fd26-8639-4862-b379-0c582b647bf4",
   "metadata": {},
   "outputs": [
    {
     "name": "stdout",
     "output_type": "stream",
     "text": [
      "[2 2 2 2 2 2 2 2 2 2]\n"
     ]
    },
    {
     "data": {
      "text/plain": [
       "array([0., 0., 0., 0., 0., 0., 0., 0., 0., 0., 1., 1., 1., 1., 1., 1., 1.,\n",
       "       1., 1., 1., 2., 2., 2., 2., 2., 2., 2., 2., 2., 2.])"
      ]
     },
     "execution_count": 31,
     "metadata": {},
     "output_type": "execute_result"
    }
   ],
   "source": [
    "class0 = np.zeros(10)\n",
    "class1 = np.ones(10)\n",
    "class2 = np.full(10,2)\n",
    "print(class2)\n",
    "new_array = np.concatenate([class0, class1, class2])\n",
    "new_array"
   ]
  },
  {
   "cell_type": "markdown",
   "id": "95422984-7a58-42ce-aa28-9924d0424bd6",
   "metadata": {},
   "source": [
    "### 4. append()"
   ]
  },
  {
   "cell_type": "code",
   "execution_count": null,
   "id": "de9c8173-b062-467b-bf79-f136f73b0f44",
   "metadata": {},
   "outputs": [],
   "source": [
    "array1 = np.append(array, value, axis = None)\n",
    "value >> Single value or Numpy array\n",
    "axis = 0  >> Rows\n",
    "axis = 1  >> columns"
   ]
  },
  {
   "cell_type": "code",
   "execution_count": 32,
   "id": "16dbe182-410c-40b9-b8a0-96dd7c283937",
   "metadata": {},
   "outputs": [
    {
     "data": {
      "text/plain": [
       "[3, 6, 7, 8, 100]"
      ]
     },
     "execution_count": 32,
     "metadata": {},
     "output_type": "execute_result"
    }
   ],
   "source": [
    "list1 = [3,6,7,8]\n",
    "list1.append(100)\n",
    "list1"
   ]
  },
  {
   "cell_type": "code",
   "execution_count": 34,
   "id": "128e2847-21ed-47a9-92fe-a1af8553f2e6",
   "metadata": {},
   "outputs": [
    {
     "data": {
      "text/plain": [
       "array([10, 20, 30, 40])"
      ]
     },
     "execution_count": 34,
     "metadata": {},
     "output_type": "execute_result"
    }
   ],
   "source": [
    "array1 = np.array([10,20,30,40])\n",
    "array1"
   ]
  },
  {
   "cell_type": "code",
   "execution_count": 36,
   "id": "ee31a161-3811-4996-aa56-0f34bbf22b80",
   "metadata": {},
   "outputs": [
    {
     "data": {
      "text/plain": [
       "array([ 10,  20,  30,  40, 100])"
      ]
     },
     "execution_count": 36,
     "metadata": {},
     "output_type": "execute_result"
    }
   ],
   "source": [
    "array1 = np.append(array1, 100)\n",
    "array1"
   ]
  },
  {
   "cell_type": "code",
   "execution_count": 38,
   "id": "328b8902-9bc7-4f4d-b539-e06ef6b0e15b",
   "metadata": {},
   "outputs": [
    {
     "data": {
      "text/plain": [
       "array([ 10,  20,  30,  40, 100, 200])"
      ]
     },
     "execution_count": 38,
     "metadata": {},
     "output_type": "execute_result"
    }
   ],
   "source": [
    "array1 = np.array([10,20,30,40])\n",
    "array1 = np.append(array1, 100)\n",
    "array1 = np.append(array1, 200)\n",
    "array1"
   ]
  },
  {
   "cell_type": "code",
   "execution_count": 41,
   "id": "4d88911f-ac6b-4ff5-a93e-651311db232d",
   "metadata": {},
   "outputs": [
    {
     "data": {
      "text/plain": [
       "array([ 10,  20,  30,  40, 100, 200, 300])"
      ]
     },
     "execution_count": 41,
     "metadata": {},
     "output_type": "execute_result"
    }
   ],
   "source": [
    "array1 = np.array([10,20,30,40])\n",
    "array1 = np.append(array1, [100,200,300])\n",
    "array1"
   ]
  },
  {
   "cell_type": "code",
   "execution_count": null,
   "id": "f38bc74d-4236-4be6-8a08-cd718fae5715",
   "metadata": {},
   "outputs": [],
   "source": [
    "array1 = np.append(array1, [100,200,300])\n",
    "array1 = np.append(array1, [100,200,300])\n",
    "array1 = np.append(array1, [100,200,300])\n",
    "array1 = np.append(array1, [100,200,300])\n",
    "array1 = np.append(array1, [100,200,300])\n",
    "array1 = np.append(array1, [100,200,300])\n",
    "array1 = np.append(array1, [100,200,300])\n",
    "array1 = np.append(array1, [100,200,300])\n",
    "array1 = np.append(array1, [100,200,300])\n",
    "array1 = np.append(array1, [100,200,300])\n",
    "array1 = np.append(array1, [100,200,300])\n",
    "array1 = np.append(array1, [100,200,300])\n",
    "array1 = np.append(array1, [100,200,300])\n",
    "array1 = np.append(array1, [100,200,300])\n",
    "array1 = np.append(array1, [100,200,300])\n",
    "array1 = np.append(array1, [100,200,300])\n",
    "array1 = np.append(array1, [100,200,300])\n",
    "array1 = np.append(array1, [100,200,300])\n",
    "array1 = np.append(array1, [100,200,300])\n",
    "array1 = np.append(array1, [100,200,300])\n",
    "array1 = np.append(array1, [100,200,300])\n"
   ]
  },
  {
   "cell_type": "code",
   "execution_count": null,
   "id": "6f45e704-b157-4df6-97af-0fa4e9d8591a",
   "metadata": {},
   "outputs": [],
   "source": []
  },
  {
   "cell_type": "code",
   "execution_count": null,
   "id": "59d6cdaf-8a81-484b-8f50-935ab347f95e",
   "metadata": {},
   "outputs": [],
   "source": []
  },
  {
   "cell_type": "code",
   "execution_count": null,
   "id": "d1fbeaec-e1ca-4234-bb3f-bf35f8668ae5",
   "metadata": {},
   "outputs": [],
   "source": []
  },
  {
   "cell_type": "code",
   "execution_count": 43,
   "id": "020de34f-665b-44eb-bd86-d058f08011e7",
   "metadata": {},
   "outputs": [
    {
     "data": {
      "text/plain": [
       "array([ 10,  20,  30,  40, 100, 200, 300])"
      ]
     },
     "execution_count": 43,
     "metadata": {},
     "output_type": "execute_result"
    }
   ],
   "source": [
    "array1 = np.array([10,20,30,40])\n",
    "array1 = np.append(array1, (100,200,300))\n",
    "array1"
   ]
  },
  {
   "cell_type": "code",
   "execution_count": 45,
   "id": "772a534b-a0e5-4371-9489-6f6569eb76ee",
   "metadata": {},
   "outputs": [
    {
     "data": {
      "text/plain": [
       "array([10, 20, 30, 40,  3,  4,  5])"
      ]
     },
     "execution_count": 45,
     "metadata": {},
     "output_type": "execute_result"
    }
   ],
   "source": [
    "array1 = np.array([10,20,30,40])\n",
    "arr2 = np.array([3,4,5])\n",
    "array1 = np.append(array1, arr2)\n",
    "array1"
   ]
  },
  {
   "cell_type": "code",
   "execution_count": 47,
   "id": "7fff0976-4932-40f8-97be-a8ec60b4c1a9",
   "metadata": {},
   "outputs": [
    {
     "data": {
      "text/plain": [
       "array([3, 4, 5])"
      ]
     },
     "execution_count": 47,
     "metadata": {},
     "output_type": "execute_result"
    }
   ],
   "source": [
    "arr2"
   ]
  },
  {
   "cell_type": "code",
   "execution_count": 49,
   "id": "e4b25bd8-1337-475d-958d-b74f31bef4d2",
   "metadata": {},
   "outputs": [
    {
     "data": {
      "text/plain": [
       "array([[2, 3, 4],\n",
       "       [4, 5, 6]])"
      ]
     },
     "execution_count": 49,
     "metadata": {},
     "output_type": "execute_result"
    }
   ],
   "source": [
    "array1 = np.array([[2,3,4],[4,5,6]])\n",
    "array1"
   ]
  },
  {
   "cell_type": "code",
   "execution_count": 51,
   "id": "3f12fd2a-c42d-4119-a9dc-01fb45669035",
   "metadata": {},
   "outputs": [
    {
     "data": {
      "text/plain": [
       "array([  2,   3,   4,   4,   5,   6, 100])"
      ]
     },
     "execution_count": 51,
     "metadata": {},
     "output_type": "execute_result"
    }
   ],
   "source": [
    "array1 = np.array([[2,3,4],[4,5,6]])\n",
    "np.append(array1,100)"
   ]
  },
  {
   "cell_type": "code",
   "execution_count": 55,
   "id": "48968789-d056-4eb6-8cf4-87d9c4dcc867",
   "metadata": {},
   "outputs": [
    {
     "data": {
      "text/plain": [
       "array([[2, 3, 4],\n",
       "       [4, 5, 6]])"
      ]
     },
     "execution_count": 55,
     "metadata": {},
     "output_type": "execute_result"
    }
   ],
   "source": [
    "array1 = np.array([[2,3,4],[4,5,6]])\n",
    "array1"
   ]
  },
  {
   "cell_type": "code",
   "execution_count": 59,
   "id": "72555edf-b213-4b3c-9077-ba042cba6031",
   "metadata": {},
   "outputs": [
    {
     "data": {
      "text/plain": [
       "array([[ 2,  3,  4],\n",
       "       [ 4,  5,  6],\n",
       "       [20, 30, 40]])"
      ]
     },
     "execution_count": 59,
     "metadata": {},
     "output_type": "execute_result"
    }
   ],
   "source": [
    "array1 = np.array([[2,3,4],[4,5,6]])\n",
    "np.append(array1,[[20,30,40]],axis = 0)"
   ]
  },
  {
   "cell_type": "code",
   "execution_count": 60,
   "id": "0d640f36-445b-4144-9b70-d05c744a22df",
   "metadata": {},
   "outputs": [
    {
     "data": {
      "text/plain": [
       "array([[2, 3, 4],\n",
       "       [4, 5, 6]])"
      ]
     },
     "execution_count": 60,
     "metadata": {},
     "output_type": "execute_result"
    }
   ],
   "source": [
    "array1 = np.array([[2,3,4],[4,5,6]])\n",
    "array1"
   ]
  },
  {
   "cell_type": "code",
   "execution_count": 66,
   "id": "6d335efa-3c1c-4978-895d-75f95348e2a6",
   "metadata": {},
   "outputs": [
    {
     "data": {
      "text/plain": [
       "array([[ 2,  3,  4, 10, 20],\n",
       "       [ 4,  5,  6,  2,  4]])"
      ]
     },
     "execution_count": 66,
     "metadata": {},
     "output_type": "execute_result"
    }
   ],
   "source": [
    "array1 = np.array([[2,3,4],[4,5,6]])\n",
    "array2 = np.array([[10,20],[2,4]])\n",
    "\n",
    "np.append(array1,array2,axis = 1)"
   ]
  },
  {
   "cell_type": "code",
   "execution_count": 68,
   "id": "60b20ea8-2760-46a4-ad91-506ba9055614",
   "metadata": {},
   "outputs": [
    {
     "data": {
      "text/plain": [
       "array([[ 2,  3,  4, 10],\n",
       "       [ 4,  5,  6, 20]])"
      ]
     },
     "execution_count": 68,
     "metadata": {},
     "output_type": "execute_result"
    }
   ],
   "source": [
    "array1 = np.array([[2,3,4],[4,5,6]])\n",
    "array2 = np.array([[10],[20]])\n",
    "\n",
    "np.append(array1,array2,axis = 1)"
   ]
  },
  {
   "cell_type": "markdown",
   "id": "0beeffe7-7861-468b-9b77-27f2776915c4",
   "metadata": {},
   "source": [
    "### 5. concatenate()"
   ]
  },
  {
   "cell_type": "code",
   "execution_count": null,
   "id": "9396c939-88b0-4fc1-8cf7-f88a7d2e45d1",
   "metadata": {},
   "outputs": [],
   "source": [
    "array1 = np.concatenate([array1, array2, array3, ..., arrayN],axis = 0)\n",
    "axis = 0  >> Rows\n",
    "axis = 1  >> columns"
   ]
  },
  {
   "cell_type": "code",
   "execution_count": 69,
   "id": "5eba8e40-3efd-4fb6-876d-833e32102404",
   "metadata": {},
   "outputs": [
    {
     "name": "stdout",
     "output_type": "stream",
     "text": [
      "[2 2 2 2 2 2 2 2 2 2]\n"
     ]
    },
    {
     "data": {
      "text/plain": [
       "array([0., 0., 0., 0., 0., 0., 0., 0., 0., 0., 1., 1., 1., 1., 1., 1., 1.,\n",
       "       1., 1., 1., 2., 2., 2., 2., 2., 2., 2., 2., 2., 2.])"
      ]
     },
     "execution_count": 69,
     "metadata": {},
     "output_type": "execute_result"
    }
   ],
   "source": [
    "class0 = np.zeros(10)\n",
    "class1 = np.ones(10)\n",
    "class2 = np.full(10,2)\n",
    "print(class2)\n",
    "new_array = np.concatenate([class0, class1, class2])\n",
    "new_array"
   ]
  },
  {
   "cell_type": "code",
   "execution_count": 71,
   "id": "e744be82-6cee-4dec-b744-e1c985786363",
   "metadata": {},
   "outputs": [
    {
     "data": {
      "text/plain": [
       "array([[2, 3, 4],\n",
       "       [4, 5, 6]])"
      ]
     },
     "execution_count": 71,
     "metadata": {},
     "output_type": "execute_result"
    }
   ],
   "source": [
    "array1 = np.array([[2,3,4],[4,5,6]])\n",
    "array1"
   ]
  },
  {
   "cell_type": "code",
   "execution_count": 74,
   "id": "1dfcf6de-6c3e-4a38-b4ab-ea14712af8e1",
   "metadata": {},
   "outputs": [
    {
     "name": "stdout",
     "output_type": "stream",
     "text": [
      "Array1 :\n",
      " [[2 3 4]\n",
      " [4 5 6]]\n",
      "Array2 :\n",
      " [[21 31 41]\n",
      " [41 52 62]]\n"
     ]
    },
    {
     "data": {
      "text/plain": [
       "array([[ 2,  3,  4],\n",
       "       [ 4,  5,  6],\n",
       "       [21, 31, 41],\n",
       "       [41, 52, 62]])"
      ]
     },
     "execution_count": 74,
     "metadata": {},
     "output_type": "execute_result"
    }
   ],
   "source": [
    "array1 = np.array([[2,3,4],[4,5,6]])\n",
    "array2 = np.array([[21,31,41],[41,52,62]])\n",
    "# array3 = np.array([[20,30,40],[40,50,60]])\n",
    "print(\"Array1 :\\n\", array1)\n",
    "print(\"Array2 :\\n\", array2)\n",
    "new_array = np.concatenate([array1,array2])\n",
    "new_array"
   ]
  },
  {
   "cell_type": "code",
   "execution_count": 77,
   "id": "c4c15ad4-4cd1-4eae-9217-923df627f93f",
   "metadata": {},
   "outputs": [
    {
     "name": "stdout",
     "output_type": "stream",
     "text": [
      "Array1 :\n",
      " [[2 3 4]\n",
      " [4 5 6]]\n",
      "Array2 :\n",
      " [[21 31 41]\n",
      " [41 52 62]]\n",
      "(2, 6)\n"
     ]
    },
    {
     "data": {
      "text/plain": [
       "array([[ 2,  3,  4, 21, 31, 41],\n",
       "       [ 4,  5,  6, 41, 52, 62]])"
      ]
     },
     "execution_count": 77,
     "metadata": {},
     "output_type": "execute_result"
    }
   ],
   "source": [
    "array1 = np.array([[2,3,4],[4,5,6]])\n",
    "array2 = np.array([[21,31,41],[41,52,62]])\n",
    "# array3 = np.array([[20,30,40],[40,50,60]])\n",
    "print(\"Array1 :\\n\", array1)\n",
    "print(\"Array2 :\\n\", array2)\n",
    "new_array = np.concatenate([array1,array2],axis = 1)\n",
    "print(new_array.shape)\n",
    "new_array"
   ]
  },
  {
   "cell_type": "code",
   "execution_count": 80,
   "id": "4d9c74a0-ed2f-489f-a470-899da9f28593",
   "metadata": {},
   "outputs": [
    {
     "name": "stdout",
     "output_type": "stream",
     "text": [
      "Array1 :\n",
      " [[2 3 4]\n",
      " [4 5 6]]\n",
      "Array2 :\n",
      " [[21 31 41]\n",
      " [41 52 62]]\n",
      "Array2 :\n",
      " [[20 30 40]\n",
      " [40 50 60]]\n",
      "(6, 3)\n"
     ]
    },
    {
     "data": {
      "text/plain": [
       "array([[ 2,  3,  4],\n",
       "       [ 4,  5,  6],\n",
       "       [21, 31, 41],\n",
       "       [41, 52, 62],\n",
       "       [20, 30, 40],\n",
       "       [40, 50, 60]])"
      ]
     },
     "execution_count": 80,
     "metadata": {},
     "output_type": "execute_result"
    }
   ],
   "source": [
    "array1 = np.array([[2,3,4],[4,5,6]])\n",
    "array2 = np.array([[21,31,41],[41,52,62]])\n",
    "array3 = np.array([[20,30,40],[40,50,60]])\n",
    "print(\"Array1 :\\n\", array1)\n",
    "print(\"Array2 :\\n\", array2)\n",
    "print(\"Array2 :\\n\", array3)\n",
    "\n",
    "new_array = np.concatenate([array1,array2,array3],axis = 0)\n",
    "print(new_array.shape)\n",
    "new_array"
   ]
  },
  {
   "cell_type": "code",
   "execution_count": 81,
   "id": "5c6d7fe3-68e1-4a99-b6f6-3b8216ae18b9",
   "metadata": {},
   "outputs": [
    {
     "name": "stdout",
     "output_type": "stream",
     "text": [
      "Array1 :\n",
      " [[2 3 4]\n",
      " [4 5 6]]\n",
      "Array2 :\n",
      " [[21 31 41]\n",
      " [41 52 62]]\n",
      "Array2 :\n",
      " [[20 30 40]\n",
      " [40 50 60]]\n",
      "(2, 9)\n"
     ]
    },
    {
     "data": {
      "text/plain": [
       "array([[ 2,  3,  4, 21, 31, 41, 20, 30, 40],\n",
       "       [ 4,  5,  6, 41, 52, 62, 40, 50, 60]])"
      ]
     },
     "execution_count": 81,
     "metadata": {},
     "output_type": "execute_result"
    }
   ],
   "source": [
    "array1 = np.array([[2,3,4],[4,5,6]])\n",
    "array2 = np.array([[21,31,41],[41,52,62]])\n",
    "array3 = np.array([[20,30,40],[40,50,60]])\n",
    "print(\"Array1 :\\n\", array1)\n",
    "print(\"Array2 :\\n\", array2)\n",
    "print(\"Array2 :\\n\", array3)\n",
    "\n",
    "new_array = np.concatenate([array1,array2,array3],axis = 1)\n",
    "print(new_array.shape)\n",
    "new_array"
   ]
  },
  {
   "cell_type": "code",
   "execution_count": null,
   "id": "54d5ddc2-6024-4ebe-b727-18f8aaadee07",
   "metadata": {},
   "outputs": [],
   "source": []
  },
  {
   "cell_type": "markdown",
   "id": "136af270-7d28-43f1-a80a-084c9c71de7d",
   "metadata": {},
   "source": [
    "### 6. np.arange()"
   ]
  },
  {
   "cell_type": "code",
   "execution_count": 82,
   "id": "587d6921-6c75-45c8-bc17-594f4f8ef531",
   "metadata": {},
   "outputs": [
    {
     "data": {
      "text/plain": [
       "range(5, 10)"
      ]
     },
     "execution_count": 82,
     "metadata": {},
     "output_type": "execute_result"
    }
   ],
   "source": [
    "range(5,10)"
   ]
  },
  {
   "cell_type": "code",
   "execution_count": 85,
   "id": "11d64047-3268-462a-924c-2f82b49d0b2f",
   "metadata": {},
   "outputs": [
    {
     "data": {
      "text/plain": [
       "[5, 7, 9]"
      ]
     },
     "execution_count": 85,
     "metadata": {},
     "output_type": "execute_result"
    }
   ],
   "source": [
    "list(range(5,10,2))"
   ]
  },
  {
   "cell_type": "code",
   "execution_count": 87,
   "id": "df3837ab-1d4a-4e45-b497-c888423fafa1",
   "metadata": {},
   "outputs": [
    {
     "data": {
      "text/plain": [
       "[15, 14, 13, 12, 11]"
      ]
     },
     "execution_count": 87,
     "metadata": {},
     "output_type": "execute_result"
    }
   ],
   "source": [
    "list(range(15,10,-1))"
   ]
  },
  {
   "cell_type": "code",
   "execution_count": 90,
   "id": "12335c54-862e-4f98-8894-1dd48a61d613",
   "metadata": {},
   "outputs": [
    {
     "ename": "TypeError",
     "evalue": "'float' object cannot be interpreted as an integer",
     "output_type": "error",
     "traceback": [
      "\u001b[1;31m---------------------------------------------------------------------------\u001b[0m",
      "\u001b[1;31mTypeError\u001b[0m                                 Traceback (most recent call last)",
      "Cell \u001b[1;32mIn[90], line 1\u001b[0m\n\u001b[1;32m----> 1\u001b[0m \u001b[38;5;28mlist\u001b[39m(\u001b[38;5;28;43mrange\u001b[39;49m\u001b[43m(\u001b[49m\u001b[38;5;241;43m1\u001b[39;49m\u001b[43m,\u001b[49m\u001b[38;5;241;43m11\u001b[39;49m\u001b[43m,\u001b[49m\u001b[38;5;241;43m0.5\u001b[39;49m\u001b[43m)\u001b[49m)\n",
      "\u001b[1;31mTypeError\u001b[0m: 'float' object cannot be interpreted as an integer"
     ]
    }
   ],
   "source": [
    "list(range(1,11,0.5))"
   ]
  },
  {
   "cell_type": "code",
   "execution_count": 92,
   "id": "03b98651-6675-45b3-875a-30e85a24e56d",
   "metadata": {},
   "outputs": [
    {
     "data": {
      "text/plain": [
       "array([5, 6, 7, 8, 9])"
      ]
     },
     "execution_count": 92,
     "metadata": {},
     "output_type": "execute_result"
    }
   ],
   "source": [
    "np.arange(5,10)"
   ]
  },
  {
   "cell_type": "code",
   "execution_count": 94,
   "id": "7309eee3-8a61-4a63-a707-ebb5b9c038e3",
   "metadata": {},
   "outputs": [
    {
     "data": {
      "text/plain": [
       "array([ 5,  7,  9, 11, 13])"
      ]
     },
     "execution_count": 94,
     "metadata": {},
     "output_type": "execute_result"
    }
   ],
   "source": [
    "np.arange(5,15,2)"
   ]
  },
  {
   "cell_type": "code",
   "execution_count": 96,
   "id": "5cd9efcc-b670-47fc-8dce-d7e11dca7d21",
   "metadata": {},
   "outputs": [
    {
     "data": {
      "text/plain": [
       "array([], dtype=int32)"
      ]
     },
     "execution_count": 96,
     "metadata": {},
     "output_type": "execute_result"
    }
   ],
   "source": [
    "np.arange(15,10,1)"
   ]
  },
  {
   "cell_type": "code",
   "execution_count": 97,
   "id": "5c27abfd-c961-4d06-8f19-44c7156c845c",
   "metadata": {},
   "outputs": [
    {
     "data": {
      "text/plain": [
       "array([15, 14, 13, 12, 11])"
      ]
     },
     "execution_count": 97,
     "metadata": {},
     "output_type": "execute_result"
    }
   ],
   "source": [
    "np.arange(15,10,-1)"
   ]
  },
  {
   "cell_type": "code",
   "execution_count": 99,
   "id": "281d06b1-9c2a-4e2d-aa19-09aa743a8da6",
   "metadata": {},
   "outputs": [
    {
     "data": {
      "text/plain": [
       "array([-5, -4, -3, -2, -1,  0,  1,  2,  3,  4])"
      ]
     },
     "execution_count": 99,
     "metadata": {},
     "output_type": "execute_result"
    }
   ],
   "source": [
    "np.arange(-5,5,1)"
   ]
  },
  {
   "cell_type": "code",
   "execution_count": 101,
   "id": "8c7fba21-2f7a-4d79-b6fe-d3c01fa99433",
   "metadata": {},
   "outputs": [
    {
     "data": {
      "text/plain": [
       "array([1. , 1.5, 2. , 2.5, 3. , 3.5, 4. , 4.5, 5. , 5.5, 6. , 6.5, 7. ,\n",
       "       7.5, 8. , 8.5, 9. , 9.5])"
      ]
     },
     "execution_count": 101,
     "metadata": {},
     "output_type": "execute_result"
    }
   ],
   "source": [
    "np.arange(1,10,0.5)"
   ]
  },
  {
   "cell_type": "code",
   "execution_count": 103,
   "id": "31d7f280-2382-4b7f-957e-7e60a5f9e35c",
   "metadata": {},
   "outputs": [
    {
     "data": {
      "text/plain": [
       "array([0. , 0.1, 0.2, 0.3, 0.4, 0.5, 0.6, 0.7, 0.8, 0.9])"
      ]
     },
     "execution_count": 103,
     "metadata": {},
     "output_type": "execute_result"
    }
   ],
   "source": [
    "np.arange(0,1,0.1)"
   ]
  },
  {
   "cell_type": "code",
   "execution_count": 104,
   "id": "ddb33b76-0c43-45e5-b73e-4f50d457d94d",
   "metadata": {},
   "outputs": [
    {
     "data": {
      "text/plain": [
       "array([0.  , 0.01, 0.02, 0.03, 0.04, 0.05, 0.06, 0.07, 0.08, 0.09, 0.1 ,\n",
       "       0.11, 0.12, 0.13, 0.14, 0.15, 0.16, 0.17, 0.18, 0.19, 0.2 , 0.21,\n",
       "       0.22, 0.23, 0.24, 0.25, 0.26, 0.27, 0.28, 0.29, 0.3 , 0.31, 0.32,\n",
       "       0.33, 0.34, 0.35, 0.36, 0.37, 0.38, 0.39, 0.4 , 0.41, 0.42, 0.43,\n",
       "       0.44, 0.45, 0.46, 0.47, 0.48, 0.49, 0.5 , 0.51, 0.52, 0.53, 0.54,\n",
       "       0.55, 0.56, 0.57, 0.58, 0.59, 0.6 , 0.61, 0.62, 0.63, 0.64, 0.65,\n",
       "       0.66, 0.67, 0.68, 0.69, 0.7 , 0.71, 0.72, 0.73, 0.74, 0.75, 0.76,\n",
       "       0.77, 0.78, 0.79, 0.8 , 0.81, 0.82, 0.83, 0.84, 0.85, 0.86, 0.87,\n",
       "       0.88, 0.89, 0.9 , 0.91, 0.92, 0.93, 0.94, 0.95, 0.96, 0.97, 0.98,\n",
       "       0.99])"
      ]
     },
     "execution_count": 104,
     "metadata": {},
     "output_type": "execute_result"
    }
   ],
   "source": [
    "np.arange(0,1,0.01)"
   ]
  },
  {
   "cell_type": "markdown",
   "id": "0a9adb78-0ae0-4dd1-a96a-b9449413000a",
   "metadata": {},
   "source": [
    "### 7. np.around()"
   ]
  },
  {
   "cell_type": "code",
   "execution_count": 105,
   "id": "03aad7a6-8a65-4dcc-85d8-8c0841eafd13",
   "metadata": {},
   "outputs": [
    {
     "data": {
      "text/plain": [
       "3.57"
      ]
     },
     "execution_count": 105,
     "metadata": {},
     "output_type": "execute_result"
    }
   ],
   "source": [
    "round(3.56789,2)"
   ]
  },
  {
   "cell_type": "code",
   "execution_count": 106,
   "id": "2b2df596-b9bf-40bb-a38e-f2006c770d30",
   "metadata": {},
   "outputs": [
    {
     "data": {
      "text/plain": [
       "3.568"
      ]
     },
     "execution_count": 106,
     "metadata": {},
     "output_type": "execute_result"
    }
   ],
   "source": [
    "round(3.56789,3)"
   ]
  },
  {
   "cell_type": "code",
   "execution_count": 108,
   "id": "c48080d7-eb7d-43c1-88e0-0fab371f7aad",
   "metadata": {},
   "outputs": [],
   "source": [
    "list1 = [1.234567, 65.34567, 45.9876543]\n",
    "# round(list1,2)"
   ]
  },
  {
   "cell_type": "code",
   "execution_count": 109,
   "id": "242093cf-6687-4d92-9a20-e45c7a53c65a",
   "metadata": {},
   "outputs": [
    {
     "data": {
      "text/plain": [
       "2.34"
      ]
     },
     "execution_count": 109,
     "metadata": {},
     "output_type": "execute_result"
    }
   ],
   "source": [
    "np.around(2.3445,2)"
   ]
  },
  {
   "cell_type": "code",
   "execution_count": 111,
   "id": "3c125b11-1715-444c-85d2-09304fe29a47",
   "metadata": {},
   "outputs": [
    {
     "data": {
      "text/plain": [
       "65.346"
      ]
     },
     "execution_count": 111,
     "metadata": {},
     "output_type": "execute_result"
    }
   ],
   "source": [
    "np.around(65.34567,3)"
   ]
  },
  {
   "cell_type": "code",
   "execution_count": 113,
   "id": "7db88f0f-053f-4942-9fbd-17e335cc1b9f",
   "metadata": {},
   "outputs": [
    {
     "data": {
      "text/plain": [
       "array([ 1.235, 65.346, 45.988])"
      ]
     },
     "execution_count": 113,
     "metadata": {},
     "output_type": "execute_result"
    }
   ],
   "source": [
    "np.around(list1,3)"
   ]
  },
  {
   "cell_type": "code",
   "execution_count": 116,
   "id": "c0f49640-b20b-4976-9e80-3f241c86114c",
   "metadata": {},
   "outputs": [
    {
     "data": {
      "text/plain": [
       "array([[ 2.45, 31.  ,  4.88],\n",
       "       [ 4.46, 52.65, 62.  ]])"
      ]
     },
     "execution_count": 116,
     "metadata": {},
     "output_type": "execute_result"
    }
   ],
   "source": [
    "array2 = np.array([[2.451,31,4.876541],[4.45671,52.6543,62]])\n",
    "np.around(array2,2)"
   ]
  },
  {
   "cell_type": "code",
   "execution_count": null,
   "id": "b5ee121c-9fe3-45ee-9562-8cef3d4055bb",
   "metadata": {},
   "outputs": [],
   "source": []
  },
  {
   "cell_type": "markdown",
   "id": "63c9093e-0ac1-42b1-878c-21051b312f60",
   "metadata": {},
   "source": [
    "### 8. np.floor()"
   ]
  },
  {
   "cell_type": "code",
   "execution_count": 117,
   "id": "ea9c6263-ce9b-4108-a041-a5ffda4a1a18",
   "metadata": {},
   "outputs": [
    {
     "data": {
      "text/plain": [
       "5.5"
      ]
     },
     "execution_count": 117,
     "metadata": {},
     "output_type": "execute_result"
    }
   ],
   "source": [
    "22/4"
   ]
  },
  {
   "cell_type": "code",
   "execution_count": 118,
   "id": "ef439f90-85d9-4944-8b1b-20bb8bcfefda",
   "metadata": {},
   "outputs": [
    {
     "data": {
      "text/plain": [
       "5"
      ]
     },
     "execution_count": 118,
     "metadata": {},
     "output_type": "execute_result"
    }
   ],
   "source": [
    "22//4"
   ]
  },
  {
   "cell_type": "code",
   "execution_count": 120,
   "id": "1df54426-9e31-4807-9e19-0f7ee6dd80ea",
   "metadata": {},
   "outputs": [
    {
     "data": {
      "text/plain": [
       "2"
      ]
     },
     "execution_count": 120,
     "metadata": {},
     "output_type": "execute_result"
    }
   ],
   "source": [
    "22%4"
   ]
  },
  {
   "cell_type": "code",
   "execution_count": 121,
   "id": "bf6230b4-1956-45f5-80de-0b6eb70a1fe1",
   "metadata": {},
   "outputs": [
    {
     "data": {
      "text/plain": [
       "array([3.234, 5.678, 1.234])"
      ]
     },
     "execution_count": 121,
     "metadata": {},
     "output_type": "execute_result"
    }
   ],
   "source": [
    "array1 = np.array([3.234,5.678,1.234])\n",
    "array1"
   ]
  },
  {
   "cell_type": "code",
   "execution_count": 122,
   "id": "c343ec32-12d9-4b0c-9d7d-170aa61612f2",
   "metadata": {},
   "outputs": [
    {
     "data": {
      "text/plain": [
       "array([3., 5., 1.])"
      ]
     },
     "execution_count": 122,
     "metadata": {},
     "output_type": "execute_result"
    }
   ],
   "source": [
    "np.floor(array1)"
   ]
  },
  {
   "cell_type": "code",
   "execution_count": 126,
   "id": "7ed2e0c4-a067-4a6a-9431-99bb777be075",
   "metadata": {},
   "outputs": [
    {
     "data": {
      "text/plain": [
       "array([ 8, 12, 16, 20, 20, 28, 32, 36])"
      ]
     },
     "execution_count": 126,
     "metadata": {},
     "output_type": "execute_result"
    }
   ],
   "source": [
    "array1 = np.array([2,3,4,5,5,7,8,9])\n",
    "array1*4"
   ]
  },
  {
   "cell_type": "code",
   "execution_count": 128,
   "id": "8107d014-5bd9-43db-8fb3-d789a66366ef",
   "metadata": {},
   "outputs": [
    {
     "data": {
      "text/plain": [
       "array([0.5 , 0.75, 1.  , 1.25, 1.25, 1.75, 2.  , 2.25])"
      ]
     },
     "execution_count": 128,
     "metadata": {},
     "output_type": "execute_result"
    }
   ],
   "source": [
    "array1 = np.array([2,3,4,5,5,7,8,9])\n",
    "array1/4"
   ]
  },
  {
   "cell_type": "code",
   "execution_count": 131,
   "id": "21d6f278-1a60-44c5-becf-0cfab35c95bd",
   "metadata": {},
   "outputs": [
    {
     "data": {
      "text/plain": [
       "array([10,  6, 12, 26,  2,  3,  4,  4], dtype=int32)"
      ]
     },
     "execution_count": 131,
     "metadata": {},
     "output_type": "execute_result"
    }
   ],
   "source": [
    "array1 = np.array([21,12,24,52,5,7,8,9])\n",
    "array1//2"
   ]
  },
  {
   "cell_type": "code",
   "execution_count": null,
   "id": "27d5decc-6f1d-4bbb-a486-d1e98b9ea0d9",
   "metadata": {},
   "outputs": [],
   "source": []
  },
  {
   "cell_type": "code",
   "execution_count": 132,
   "id": "b03f74ee-60ee-4da1-956b-04914b15927d",
   "metadata": {},
   "outputs": [
    {
     "data": {
      "text/plain": [
       "array([3.234, 5.678, 1.234])"
      ]
     },
     "execution_count": 132,
     "metadata": {},
     "output_type": "execute_result"
    }
   ],
   "source": [
    "array1 = np.array([3.234,5.678,1.234])\n",
    "array1"
   ]
  },
  {
   "cell_type": "markdown",
   "id": "dbd0f09b-7ea7-4d42-9a53-a29ec955221a",
   "metadata": {},
   "source": [
    "### 9. np.ceil()"
   ]
  },
  {
   "cell_type": "code",
   "execution_count": 134,
   "id": "43e47fcb-bbb6-4329-9ba6-af6246876ba7",
   "metadata": {},
   "outputs": [
    {
     "data": {
      "text/plain": [
       "array([4., 6., 2.])"
      ]
     },
     "execution_count": 134,
     "metadata": {},
     "output_type": "execute_result"
    }
   ],
   "source": [
    "array1 = np.array([3.234,5.678,1.234])\n",
    "np.ceil(array1) # 4,6,2"
   ]
  },
  {
   "cell_type": "code",
   "execution_count": 136,
   "id": "bab1a1f5-78e7-4932-8333-4c5cb7a3572f",
   "metadata": {},
   "outputs": [
    {
     "data": {
      "text/plain": [
       "array([[ 4.,  6.],\n",
       "       [ 2., 57.]])"
      ]
     },
     "execution_count": 136,
     "metadata": {},
     "output_type": "execute_result"
    }
   ],
   "source": [
    "array1 = np.array([[3.234,5.678],[1.234,56.3456789]])\n",
    "np.ceil(array1) # 4,6,2"
   ]
  },
  {
   "cell_type": "code",
   "execution_count": 139,
   "id": "bf00bd74-78a0-444e-af4a-85dba58539de",
   "metadata": {},
   "outputs": [
    {
     "data": {
      "text/plain": [
       "11.0"
      ]
     },
     "execution_count": 139,
     "metadata": {},
     "output_type": "execute_result"
    }
   ],
   "source": [
    "np.ceil(10.345)"
   ]
  },
  {
   "cell_type": "code",
   "execution_count": 142,
   "id": "75276f96-4db6-4082-9bfc-fe741cfe3dab",
   "metadata": {},
   "outputs": [
    {
     "data": {
      "text/plain": [
       "10.0"
      ]
     },
     "execution_count": 142,
     "metadata": {},
     "output_type": "execute_result"
    }
   ],
   "source": [
    "np.ceil(10.0)"
   ]
  },
  {
   "cell_type": "code",
   "execution_count": 144,
   "id": "74dfee9e-bbe3-442e-879c-2b44511f571b",
   "metadata": {},
   "outputs": [
    {
     "data": {
      "text/plain": [
       "11.0"
      ]
     },
     "execution_count": 144,
     "metadata": {},
     "output_type": "execute_result"
    }
   ],
   "source": [
    "np.ceil(10.0001)"
   ]
  },
  {
   "cell_type": "code",
   "execution_count": 146,
   "id": "803dac68-36f9-4f72-bdf2-1d2681922883",
   "metadata": {},
   "outputs": [
    {
     "data": {
      "text/plain": [
       "-10.0"
      ]
     },
     "execution_count": 146,
     "metadata": {},
     "output_type": "execute_result"
    }
   ],
   "source": [
    "np.ceil(-10.0001)"
   ]
  },
  {
   "cell_type": "code",
   "execution_count": 148,
   "id": "3dcc69d6-4b3c-4c92-9f9d-26d20df58af4",
   "metadata": {},
   "outputs": [
    {
     "data": {
      "text/plain": [
       "-11.0"
      ]
     },
     "execution_count": 148,
     "metadata": {},
     "output_type": "execute_result"
    }
   ],
   "source": [
    "np.floor(-10.0001)"
   ]
  },
  {
   "cell_type": "code",
   "execution_count": 149,
   "id": "a867b948-fa17-4694-86b8-aa05c836d059",
   "metadata": {},
   "outputs": [
    {
     "data": {
      "text/plain": [
       "(-5, -4, -3, -2, -1, 0, 1, 2, 3, 4, 5)"
      ]
     },
     "execution_count": 149,
     "metadata": {},
     "output_type": "execute_result"
    }
   ],
   "source": [
    "-5,-4,-3,-2,-1,0,1,2,3,4,5"
   ]
  },
  {
   "cell_type": "markdown",
   "id": "9c4d1674-97b4-4d8a-822e-fcbd73ced8b3",
   "metadata": {},
   "source": [
    "### 10. np.linspace(3)"
   ]
  },
  {
   "cell_type": "code",
   "execution_count": null,
   "id": "5fa903c6-8305-4c28-ae0e-54afbbb94439",
   "metadata": {},
   "outputs": [],
   "source": [
    "np.linspace(start_val, end_val, num = 50)\n",
    "\n",
    "Returns evenly spaced values"
   ]
  },
  {
   "cell_type": "code",
   "execution_count": 151,
   "id": "d1985da9-4d5f-4e14-ba16-9cfd8bca8f5b",
   "metadata": {},
   "outputs": [
    {
     "data": {
      "text/plain": [
       "array([ 1.        ,  1.18367347,  1.36734694,  1.55102041,  1.73469388,\n",
       "        1.91836735,  2.10204082,  2.28571429,  2.46938776,  2.65306122,\n",
       "        2.83673469,  3.02040816,  3.20408163,  3.3877551 ,  3.57142857,\n",
       "        3.75510204,  3.93877551,  4.12244898,  4.30612245,  4.48979592,\n",
       "        4.67346939,  4.85714286,  5.04081633,  5.2244898 ,  5.40816327,\n",
       "        5.59183673,  5.7755102 ,  5.95918367,  6.14285714,  6.32653061,\n",
       "        6.51020408,  6.69387755,  6.87755102,  7.06122449,  7.24489796,\n",
       "        7.42857143,  7.6122449 ,  7.79591837,  7.97959184,  8.16326531,\n",
       "        8.34693878,  8.53061224,  8.71428571,  8.89795918,  9.08163265,\n",
       "        9.26530612,  9.44897959,  9.63265306,  9.81632653, 10.        ])"
      ]
     },
     "execution_count": 151,
     "metadata": {},
     "output_type": "execute_result"
    }
   ],
   "source": [
    "array1 = np.linspace(1, 10, num = 50)\n",
    "array1"
   ]
  },
  {
   "cell_type": "code",
   "execution_count": 152,
   "id": "e25078c5-615d-4b52-bbc2-70d3a0b1c087",
   "metadata": {},
   "outputs": [
    {
     "data": {
      "text/plain": [
       "array([  1.        ,   3.02040816,   5.04081633,   7.06122449,\n",
       "         9.08163265,  11.10204082,  13.12244898,  15.14285714,\n",
       "        17.16326531,  19.18367347,  21.20408163,  23.2244898 ,\n",
       "        25.24489796,  27.26530612,  29.28571429,  31.30612245,\n",
       "        33.32653061,  35.34693878,  37.36734694,  39.3877551 ,\n",
       "        41.40816327,  43.42857143,  45.44897959,  47.46938776,\n",
       "        49.48979592,  51.51020408,  53.53061224,  55.55102041,\n",
       "        57.57142857,  59.59183673,  61.6122449 ,  63.63265306,\n",
       "        65.65306122,  67.67346939,  69.69387755,  71.71428571,\n",
       "        73.73469388,  75.75510204,  77.7755102 ,  79.79591837,\n",
       "        81.81632653,  83.83673469,  85.85714286,  87.87755102,\n",
       "        89.89795918,  91.91836735,  93.93877551,  95.95918367,\n",
       "        97.97959184, 100.        ])"
      ]
     },
     "execution_count": 152,
     "metadata": {},
     "output_type": "execute_result"
    }
   ],
   "source": [
    "array1 = np.linspace(1, 100, num = 50)\n",
    "array1"
   ]
  },
  {
   "cell_type": "code",
   "execution_count": 154,
   "id": "c9a679ea-9b40-4970-97b6-53b57e29fd49",
   "metadata": {},
   "outputs": [
    {
     "data": {
      "text/plain": [
       "-2.0204081600000023"
      ]
     },
     "execution_count": 154,
     "metadata": {},
     "output_type": "execute_result"
    }
   ],
   "source": [
    "49.48979592 - 51.51020408"
   ]
  },
  {
   "cell_type": "code",
   "execution_count": 156,
   "id": "5ba1674b-352a-4f16-8526-e6f072fb5599",
   "metadata": {},
   "outputs": [
    {
     "data": {
      "text/plain": [
       "-2.0204081600000023"
      ]
     },
     "execution_count": 156,
     "metadata": {},
     "output_type": "execute_result"
    }
   ],
   "source": [
    "75.75510204 - 77.7755102"
   ]
  },
  {
   "cell_type": "code",
   "execution_count": 158,
   "id": "89cb473e-73c4-446e-b25b-c9c9729a26d8",
   "metadata": {},
   "outputs": [
    {
     "data": {
      "text/plain": [
       "array([  1.,  12.,  23.,  34.,  45.,  56.,  67.,  78.,  89., 100.])"
      ]
     },
     "execution_count": 158,
     "metadata": {},
     "output_type": "execute_result"
    }
   ],
   "source": [
    "array1 = np.linspace(1, 100, num = 10)\n",
    "array1"
   ]
  },
  {
   "cell_type": "code",
   "execution_count": 160,
   "id": "a655f0b0-84a4-4a0d-a5fe-4ec90842262e",
   "metadata": {},
   "outputs": [
    {
     "data": {
      "text/plain": [
       "array([ 10.,  20.,  30.,  40.,  50.,  60.,  70.,  80.,  90., 100.])"
      ]
     },
     "execution_count": 160,
     "metadata": {},
     "output_type": "execute_result"
    }
   ],
   "source": [
    "array1 = np.linspace(10, 100, num = 10)\n",
    "array1"
   ]
  },
  {
   "cell_type": "markdown",
   "id": "b5a3d0d9-a084-410b-be00-fe9f8b4f5559",
   "metadata": {},
   "source": [
    "### 11. np.eye()"
   ]
  },
  {
   "cell_type": "code",
   "execution_count": null,
   "id": "33f40ef3-8612-4e55-aa55-a5f0a2f3dde7",
   "metadata": {},
   "outputs": [],
   "source": [
    "np.eye(shape)\n",
    "np.eye(5)  >> 5*5"
   ]
  },
  {
   "cell_type": "code",
   "execution_count": 162,
   "id": "bbd75f00-ba03-4313-bd06-04bf1d3f5980",
   "metadata": {},
   "outputs": [
    {
     "data": {
      "text/plain": [
       "array([[1., 0., 0., 0., 0.],\n",
       "       [0., 1., 0., 0., 0.],\n",
       "       [0., 0., 1., 0., 0.],\n",
       "       [0., 0., 0., 1., 0.],\n",
       "       [0., 0., 0., 0., 1.]])"
      ]
     },
     "execution_count": 162,
     "metadata": {},
     "output_type": "execute_result"
    }
   ],
   "source": [
    "np.eye(5)"
   ]
  },
  {
   "cell_type": "code",
   "execution_count": 164,
   "id": "7685c195-d97d-4ba1-a0c1-5b906b0d7111",
   "metadata": {},
   "outputs": [
    {
     "data": {
      "text/plain": [
       "array([[1., 0., 0., 0., 0.],\n",
       "       [0., 1., 0., 0., 0.],\n",
       "       [0., 0., 1., 0., 0.],\n",
       "       [0., 0., 0., 1., 0.],\n",
       "       [0., 0., 0., 0., 1.]])"
      ]
     },
     "execution_count": 164,
     "metadata": {},
     "output_type": "execute_result"
    }
   ],
   "source": [
    "np.eye(5,5)"
   ]
  },
  {
   "cell_type": "code",
   "execution_count": 166,
   "id": "99612c62-9b4e-4ec9-a0d8-78b8b951ec10",
   "metadata": {},
   "outputs": [
    {
     "data": {
      "text/plain": [
       "array([[1., 0., 0., 0.],\n",
       "       [0., 1., 0., 0.],\n",
       "       [0., 0., 1., 0.]])"
      ]
     },
     "execution_count": 166,
     "metadata": {},
     "output_type": "execute_result"
    }
   ],
   "source": [
    "np.eye(3,4)"
   ]
  },
  {
   "cell_type": "code",
   "execution_count": 167,
   "id": "bcb35190-b4f2-4244-9f67-e82d40de12e8",
   "metadata": {},
   "outputs": [
    {
     "data": {
      "text/plain": [
       "array([[1., 0., 0., 0., 0.],\n",
       "       [0., 1., 0., 0., 0.],\n",
       "       [0., 0., 1., 0., 0.]])"
      ]
     },
     "execution_count": 167,
     "metadata": {},
     "output_type": "execute_result"
    }
   ],
   "source": [
    "np.eye(3,5)"
   ]
  },
  {
   "cell_type": "code",
   "execution_count": 169,
   "id": "293bff29-ae1d-45ce-8f4b-b979a3d5a0c3",
   "metadata": {},
   "outputs": [
    {
     "data": {
      "text/plain": [
       "array([[1., 0., 0.],\n",
       "       [0., 1., 0.],\n",
       "       [0., 0., 1.],\n",
       "       [0., 0., 0.],\n",
       "       [0., 0., 0.]])"
      ]
     },
     "execution_count": 169,
     "metadata": {},
     "output_type": "execute_result"
    }
   ],
   "source": [
    "np.eye(5,3)"
   ]
  },
  {
   "cell_type": "markdown",
   "id": "ef640652-6bbb-42f5-b38f-883caf432312",
   "metadata": {},
   "source": [
    "### 12. np.identity()"
   ]
  },
  {
   "cell_type": "code",
   "execution_count": 170,
   "id": "211c26a8-06eb-43cf-b996-5ffd75a29701",
   "metadata": {},
   "outputs": [
    {
     "data": {
      "text/plain": [
       "array([[1., 0., 0., 0., 0.],\n",
       "       [0., 1., 0., 0., 0.],\n",
       "       [0., 0., 1., 0., 0.],\n",
       "       [0., 0., 0., 1., 0.],\n",
       "       [0., 0., 0., 0., 1.]])"
      ]
     },
     "execution_count": 170,
     "metadata": {},
     "output_type": "execute_result"
    }
   ],
   "source": [
    "np.identity(5)"
   ]
  },
  {
   "cell_type": "code",
   "execution_count": 172,
   "id": "31c841a6-deb6-4d2d-a517-5219a7fc149c",
   "metadata": {},
   "outputs": [],
   "source": [
    "# np.identity(5,3)"
   ]
  },
  {
   "cell_type": "code",
   "execution_count": 173,
   "id": "2ca99e96-a67c-4f5f-9db1-2ba7df1042b0",
   "metadata": {},
   "outputs": [
    {
     "data": {
      "text/plain": [
       "array([[1, 0, 0, 0, 0],\n",
       "       [0, 1, 0, 0, 0],\n",
       "       [0, 0, 1, 0, 0],\n",
       "       [0, 0, 0, 1, 0],\n",
       "       [0, 0, 0, 0, 1]])"
      ]
     },
     "execution_count": 173,
     "metadata": {},
     "output_type": "execute_result"
    }
   ],
   "source": [
    "np.identity(5, dtype = int)"
   ]
  },
  {
   "cell_type": "markdown",
   "id": "6111b065-c695-4373-9f1a-4ee99d9e9a4e",
   "metadata": {},
   "source": [
    "### 13. random"
   ]
  },
  {
   "cell_type": "code",
   "execution_count": null,
   "id": "caf98dd6-5f93-463e-bd13-2984ad6a82d1",
   "metadata": {},
   "outputs": [],
   "source": [
    "Used to generate random values\n",
    "np.random:\n",
    "    1. np.random.rand()\n",
    "    2. np.random.randint()\n",
    "    3. np.random.randn()\n",
    "    4. np.random.randf()\n",
    "    5. np.random.sample()\n",
    "    6. np.random.random_sample()\n",
    "    7. np.random.uniform\n",
    "    8. np.random.choice()\n",
    "    9. np.random.seed()"
   ]
  },
  {
   "cell_type": "code",
   "execution_count": null,
   "id": "a684228f-44a1-4640-81dd-9871a76ee46a",
   "metadata": {},
   "outputs": [],
   "source": []
  },
  {
   "cell_type": "markdown",
   "id": "378268fd-2e5d-46d5-9547-5197fe57ead1",
   "metadata": {},
   "source": [
    "#### 13.1 np.random.rand()"
   ]
  },
  {
   "cell_type": "code",
   "execution_count": null,
   "id": "4b34dd64-e071-416f-a850-41c5c660438f",
   "metadata": {},
   "outputs": [],
   "source": [
    "It return values between 0 to 1\n"
   ]
  },
  {
   "cell_type": "code",
   "execution_count": 174,
   "id": "092f6abd-f560-4b83-aee5-457f41a29594",
   "metadata": {},
   "outputs": [
    {
     "data": {
      "text/plain": [
       "array([0.96965615, 0.4083319 , 0.46268085, 0.11462184, 0.43689962,\n",
       "       0.39315003, 0.32043588, 0.48251412, 0.13939678, 0.37302584])"
      ]
     },
     "execution_count": 174,
     "metadata": {},
     "output_type": "execute_result"
    }
   ],
   "source": [
    "np.random.rand(10)"
   ]
  },
  {
   "cell_type": "code",
   "execution_count": 198,
   "id": "1922c79e-20d2-440d-a66f-3dbb90bcaef4",
   "metadata": {},
   "outputs": [
    {
     "data": {
      "text/plain": [
       "array([0.30300466, 0.4556578 , 0.69710891, 0.33979624, 0.17892724,\n",
       "       0.64657405, 0.59175151, 0.34800415, 0.48083417, 0.58913943])"
      ]
     },
     "execution_count": 198,
     "metadata": {},
     "output_type": "execute_result"
    }
   ],
   "source": [
    "np.random.rand(10)"
   ]
  },
  {
   "cell_type": "code",
   "execution_count": 201,
   "id": "806d8fbe-27bf-4b23-8aa9-5392b08d50b6",
   "metadata": {},
   "outputs": [
    {
     "data": {
      "text/plain": [
       "array([[0.07720965, 0.90527079, 0.33768837, 0.43839909],\n",
       "       [0.65626407, 0.13319854, 0.95526805, 0.02255738],\n",
       "       [0.33448208, 0.49116587, 0.48008871, 0.61282041]])"
      ]
     },
     "execution_count": 201,
     "metadata": {},
     "output_type": "execute_result"
    }
   ],
   "source": [
    "np.random.rand(3,4)"
   ]
  },
  {
   "cell_type": "code",
   "execution_count": 212,
   "id": "13916bcd-3cb0-4fce-a6d1-c7ac82c3edfa",
   "metadata": {},
   "outputs": [
    {
     "data": {
      "text/plain": [
       "array([[0.16394938, 0.60567183],\n",
       "       [0.46682695, 0.4549526 ],\n",
       "       [0.60940511, 0.8874219 ],\n",
       "       [0.0684486 , 0.84406285],\n",
       "       [0.36088891, 0.72681718]])"
      ]
     },
     "execution_count": 212,
     "metadata": {},
     "output_type": "execute_result"
    }
   ],
   "source": [
    "np.random.rand(5,2)"
   ]
  },
  {
   "cell_type": "markdown",
   "id": "7aeb5d0f-88fd-4d9c-848e-582daf14e5d0",
   "metadata": {},
   "source": [
    "#### 13.2 np.random.randint()"
   ]
  },
  {
   "cell_type": "code",
   "execution_count": null,
   "id": "dd38d191-9ca2-4dff-9028-31e920d5f817",
   "metadata": {},
   "outputs": [],
   "source": [
    "np.random.randint(start_val, end_val, size = shape)"
   ]
  },
  {
   "cell_type": "code",
   "execution_count": 214,
   "id": "61ba7a58-1ef8-4ea1-bf8b-4805a1eb19dc",
   "metadata": {},
   "outputs": [
    {
     "data": {
      "text/plain": [
       "array([24, 12, 27])"
      ]
     },
     "execution_count": 214,
     "metadata": {},
     "output_type": "execute_result"
    }
   ],
   "source": [
    "array1 = np.random.randint(10,30, size = 3)\n",
    "array1"
   ]
  },
  {
   "cell_type": "code",
   "execution_count": 226,
   "id": "3e223875-185a-4037-ab7b-a1b46bd30821",
   "metadata": {},
   "outputs": [
    {
     "data": {
      "text/plain": [
       "array([10, 10, 11])"
      ]
     },
     "execution_count": 226,
     "metadata": {},
     "output_type": "execute_result"
    }
   ],
   "source": [
    "array1 = np.random.randint(10,12, size = 3)\n",
    "array1"
   ]
  },
  {
   "cell_type": "code",
   "execution_count": 230,
   "id": "f56e421e-1d63-4823-9442-59a9fd0d9ffa",
   "metadata": {},
   "outputs": [
    {
     "data": {
      "text/plain": [
       "array([10, 10, 10])"
      ]
     },
     "execution_count": 230,
     "metadata": {},
     "output_type": "execute_result"
    }
   ],
   "source": [
    "array1 = np.random.randint(10,11, size = 3)\n",
    "array1"
   ]
  },
  {
   "cell_type": "code",
   "execution_count": 237,
   "id": "70c163b5-ad1f-4ccb-8921-03780d2078ad",
   "metadata": {},
   "outputs": [
    {
     "data": {
      "text/plain": [
       "array([ 29, 244, 253, 449,  63, 459, 244, 330, 283, 479])"
      ]
     },
     "execution_count": 237,
     "metadata": {},
     "output_type": "execute_result"
    }
   ],
   "source": [
    "array1 = np.random.randint(10,500, size = 10)\n",
    "array1"
   ]
  },
  {
   "cell_type": "code",
   "execution_count": 240,
   "id": "8fe075d4-64da-49a9-82ac-662eca227761",
   "metadata": {},
   "outputs": [
    {
     "data": {
      "text/plain": [
       "array([66, 69, 90, 23, 37, 64, 52, 57, 10, 98])"
      ]
     },
     "execution_count": 240,
     "metadata": {},
     "output_type": "execute_result"
    }
   ],
   "source": [
    "array1 = np.random.randint(10,100, size = 10)\n",
    "array1"
   ]
  },
  {
   "cell_type": "code",
   "execution_count": 242,
   "id": "16489d0e-659f-40bc-991a-c6b6eae60b61",
   "metadata": {},
   "outputs": [
    {
     "data": {
      "text/plain": [
       "array([[95, 96, 90, 64],\n",
       "       [12, 84, 42, 45],\n",
       "       [14, 12, 66, 33],\n",
       "       [84, 57, 18, 26],\n",
       "       [20, 78, 99, 31]])"
      ]
     },
     "execution_count": 242,
     "metadata": {},
     "output_type": "execute_result"
    }
   ],
   "source": [
    "array1 = np.random.randint(10,100, size = (5,4))\n",
    "array1"
   ]
  },
  {
   "cell_type": "code",
   "execution_count": 244,
   "id": "9b5442c3-a986-4778-b7c6-594c9d11251a",
   "metadata": {},
   "outputs": [
    {
     "data": {
      "text/plain": [
       "array([[16, 19, 19, 12],\n",
       "       [14, 18, 15, 10],\n",
       "       [15, 18, 19, 13],\n",
       "       [14, 12, 10, 11],\n",
       "       [12, 19, 17, 13]])"
      ]
     },
     "execution_count": 244,
     "metadata": {},
     "output_type": "execute_result"
    }
   ],
   "source": [
    "array1 = np.random.randint(10,20, size = (5,4))\n",
    "array1"
   ]
  },
  {
   "cell_type": "code",
   "execution_count": 246,
   "id": "abc02ae2-87ce-4b52-a53c-6fe865eeafa1",
   "metadata": {},
   "outputs": [
    {
     "data": {
      "text/plain": [
       "array([[[10, 17],\n",
       "        [18, 12]],\n",
       "\n",
       "       [[19, 13],\n",
       "        [18, 10]],\n",
       "\n",
       "       [[17, 11],\n",
       "        [16, 19]]])"
      ]
     },
     "execution_count": 246,
     "metadata": {},
     "output_type": "execute_result"
    }
   ],
   "source": [
    "array1 = np.random.randint(10,20, size = (3,2,2))\n",
    "array1"
   ]
  },
  {
   "cell_type": "markdown",
   "id": "401b63ce-3316-4847-a680-ca2e35448d03",
   "metadata": {},
   "source": [
    "#### 13.3 np.random.randn()"
   ]
  },
  {
   "cell_type": "code",
   "execution_count": null,
   "id": "323df233-e641-4fbc-9f23-777d02912901",
   "metadata": {},
   "outputs": [],
   "source": [
    "It returns sample from normally distributed data\n",
    "\n",
    "normally distribution >> Gaussian Distribution >> Symmetric data"
   ]
  },
  {
   "cell_type": "code",
   "execution_count": 247,
   "id": "eeee3557-96a2-4a8c-b2a1-48659e245d31",
   "metadata": {},
   "outputs": [
    {
     "data": {
      "text/plain": [
       "array([ 0.09142106,  0.01758255,  0.37148659,  0.94852185, -0.71756129,\n",
       "       -1.09175561, -0.37238441, -0.62131715, -0.39846834, -0.47403533])"
      ]
     },
     "execution_count": 247,
     "metadata": {},
     "output_type": "execute_result"
    }
   ],
   "source": [
    "np.random.randn(10)"
   ]
  },
  {
   "cell_type": "code",
   "execution_count": 248,
   "id": "2adfd327-aa2f-4ac0-baec-2304f852119b",
   "metadata": {},
   "outputs": [
    {
     "data": {
      "text/plain": [
       "array([ 5.35105221e-01,  9.11267581e-04,  1.31375183e+00, -7.76136926e-01,\n",
       "        4.00298669e-01, -1.04622521e+00, -2.71570957e-01, -5.20802831e-01,\n",
       "       -1.05544857e+00,  4.30625459e-03,  7.75058348e-01, -1.30442639e+00,\n",
       "        1.16267463e+00,  9.20393274e-01,  6.10092180e-01,  2.47203154e+00,\n",
       "        4.18076118e-01, -2.03361400e-01,  1.43866524e-01, -4.39010783e-01])"
      ]
     },
     "execution_count": 248,
     "metadata": {},
     "output_type": "execute_result"
    }
   ],
   "source": [
    "np.random.randn(20)"
   ]
  },
  {
   "cell_type": "code",
   "execution_count": null,
   "id": "6b454a81-4386-4617-99bc-9679e623bb15",
   "metadata": {},
   "outputs": [],
   "source": [
    "4.456e-03"
   ]
  },
  {
   "cell_type": "code",
   "execution_count": 249,
   "id": "f01779e4-c007-4627-8a7d-9352e189e9da",
   "metadata": {},
   "outputs": [
    {
     "data": {
      "text/plain": [
       "0.004456000000000001"
      ]
     },
     "execution_count": 249,
     "metadata": {},
     "output_type": "execute_result"
    }
   ],
   "source": [
    "4.456 * (10 ** -3)"
   ]
  },
  {
   "cell_type": "code",
   "execution_count": 250,
   "id": "56fc8a54-aeeb-49fa-8e9d-1f3556185362",
   "metadata": {},
   "outputs": [
    {
     "data": {
      "text/plain": [
       "4456.0"
      ]
     },
     "execution_count": 250,
     "metadata": {},
     "output_type": "execute_result"
    }
   ],
   "source": [
    "4.456 * (10 ** 3)"
   ]
  },
  {
   "cell_type": "code",
   "execution_count": 253,
   "id": "959df86e-b00f-44d3-8173-d5c996d31b45",
   "metadata": {},
   "outputs": [],
   "source": [
    "# !pip install seaborn"
   ]
  },
  {
   "cell_type": "code",
   "execution_count": 254,
   "id": "b5935d1c-9538-4b5d-8140-ff3b6d4b4740",
   "metadata": {},
   "outputs": [],
   "source": [
    "import seaborn as sns"
   ]
  },
  {
   "cell_type": "code",
   "execution_count": 256,
   "id": "01ef279c-44a5-4f9c-814e-a1687088eb7f",
   "metadata": {},
   "outputs": [
    {
     "data": {
      "text/plain": [
       "<Axes: ylabel='Density'>"
      ]
     },
     "execution_count": 256,
     "metadata": {},
     "output_type": "execute_result"
    },
    {
     "data": {
      "image/png": "[encoded data removed]",
      "text/plain": [
       "<Figure size 640x480 with 1 Axes>"
      ]
     },
     "metadata": {},
     "output_type": "display_data"
    }
   ],
   "source": [
    "array1 = np.random.randn(1000)\n",
    "sns.kdeplot(array1)"
   ]
  },
  {
   "cell_type": "code",
   "execution_count": 258,
   "id": "d516f673-8ba8-46c2-9736-cbb71b9109e5",
   "metadata": {},
   "outputs": [
    {
     "data": {
      "text/plain": [
       "<Axes: ylabel='Density'>"
      ]
     },
     "execution_count": 258,
     "metadata": {},
     "output_type": "execute_result"
    },
    {
     "data": {
      "image/png": "[encoded data removed]",
      "text/plain": [
       "<Figure size 640x480 with 1 Axes>"
      ]
     },
     "metadata": {},
     "output_type": "display_data"
    }
   ],
   "source": [
    "array1 = np.random.randn(100)\n",
    "sns.kdeplot(array1)"
   ]
  },
  {
   "cell_type": "code",
   "execution_count": 261,
   "id": "5e5d80d4-0948-461c-a068-2d9f0490d334",
   "metadata": {},
   "outputs": [
    {
     "data": {
      "text/plain": [
       "<Axes: ylabel='Density'>"
      ]
     },
     "execution_count": 261,
     "metadata": {},
     "output_type": "execute_result"
    },
    {
     "data": {
      "image/png": "[encoded data removed]",
      "text/plain": [
       "<Figure size 640x480 with 1 Axes>"
      ]
     },
     "metadata": {},
     "output_type": "display_data"
    }
   ],
   "source": [
    "array1 = np.random.rand(100)\n",
    "sns.kdeplot(array1)"
   ]
  },
  {
   "cell_type": "markdown",
   "id": "f2af05d3-8233-432a-ad69-4bc8d55d908e",
   "metadata": {},
   "source": [
    "#### 13.4 np.random.ranf()"
   ]
  },
  {
   "cell_type": "code",
   "execution_count": null,
   "id": "bb5b66f3-1ab2-43f6-a9ee-c0186a53ea2a",
   "metadata": {},
   "outputs": [],
   "source": [
    "It return values between 0 to 1\n"
   ]
  },
  {
   "cell_type": "code",
   "execution_count": 262,
   "id": "6dbe3a30-a364-4fd0-8421-03aa3d7feb41",
   "metadata": {},
   "outputs": [
    {
     "data": {
      "text/plain": [
       "array([0.46205867, 0.1045699 , 0.7896622 , 0.59231533, 0.64507657,\n",
       "       0.95448253, 0.38937496, 0.49059283, 0.93460393, 0.23455198])"
      ]
     },
     "execution_count": 262,
     "metadata": {},
     "output_type": "execute_result"
    }
   ],
   "source": [
    "np.random.ranf(10)"
   ]
  },
  {
   "cell_type": "code",
   "execution_count": 264,
   "id": "f11a96a8-db38-4db9-8ae1-7018619c3594",
   "metadata": {},
   "outputs": [
    {
     "data": {
      "text/plain": [
       "array([0.34878625, 0.79509608, 0.56033229, 0.21492669, 0.19003232,\n",
       "       0.56131288, 0.09355783, 0.92299739, 0.42278733, 0.28173021,\n",
       "       0.16647314, 0.63300858, 0.31061821, 0.63346828, 0.52586633,\n",
       "       0.35365767, 0.75784036, 0.72098499, 0.93362086, 0.99717605,\n",
       "       0.43838094, 0.33744012, 0.01030188, 0.10500297, 0.34863955,\n",
       "       0.72890213, 0.76038668, 0.97122246, 0.8693777 , 0.66091981])"
      ]
     },
     "execution_count": 264,
     "metadata": {},
     "output_type": "execute_result"
    }
   ],
   "source": [
    "np.random.ranf(30)"
   ]
  },
  {
   "cell_type": "code",
   "execution_count": 265,
   "id": "7490be0c-3c48-4e7b-83e2-a52a4a0a319d",
   "metadata": {},
   "outputs": [
    {
     "data": {
      "text/plain": [
       "array([[0.32812662, 0.13188962, 0.20132381, 0.32881476],\n",
       "       [0.23643081, 0.26389604, 0.27437841, 0.07702261],\n",
       "       [0.90542305, 0.50567979, 0.4019652 , 0.62144312]])"
      ]
     },
     "execution_count": 265,
     "metadata": {},
     "output_type": "execute_result"
    }
   ],
   "source": [
    "np.random.ranf((3,4))"
   ]
  },
  {
   "cell_type": "markdown",
   "id": "069d7e80-4d9e-45df-bd14-9c98c717166b",
   "metadata": {},
   "source": [
    "### 13.4 np.random.sample()"
   ]
  },
  {
   "cell_type": "code",
   "execution_count": null,
   "id": "5170e12a-d319-4abe-abd0-8737ed3b31ec",
   "metadata": {},
   "outputs": [],
   "source": [
    "It return values between 0 to 1\n"
   ]
  },
  {
   "cell_type": "code",
   "execution_count": 267,
   "id": "7042d73a-558a-4084-b34c-5e3e5319b850",
   "metadata": {},
   "outputs": [
    {
     "data": {
      "text/plain": [
       "array([[0.18765057, 0.76820563, 0.94796655, 0.32138939],\n",
       "       [0.47851306, 0.90023265, 0.64363952, 0.30484233],\n",
       "       [0.42977843, 0.16414339, 0.09505347, 0.96453796]])"
      ]
     },
     "execution_count": 267,
     "metadata": {},
     "output_type": "execute_result"
    }
   ],
   "source": [
    "np.random.sample((3,4))"
   ]
  },
  {
   "cell_type": "code",
   "execution_count": 269,
   "id": "6a2eef52-6a29-49ec-8976-00df18c9a15b",
   "metadata": {},
   "outputs": [
    {
     "data": {
      "text/plain": [
       "array([0.78984606, 0.41929645, 0.78257394, 0.9780187 , 0.85264054,\n",
       "       0.17132736, 0.33329035, 0.8007862 , 0.54504397, 0.33835123])"
      ]
     },
     "execution_count": 269,
     "metadata": {},
     "output_type": "execute_result"
    }
   ],
   "source": [
    "np.random.sample(10)"
   ]
  },
  {
   "cell_type": "markdown",
   "id": "6d72d0bf-5b7b-4ab3-8fee-1556e107fcf6",
   "metadata": {},
   "source": [
    "#### 13.5 np.random.random_sample()"
   ]
  },
  {
   "cell_type": "code",
   "execution_count": 271,
   "id": "c7dd593e-5f6c-429e-8987-88bc012fa6d1",
   "metadata": {},
   "outputs": [
    {
     "data": {
      "text/plain": [
       "array([0.81669258, 0.24614577, 0.85143837, 0.24947732, 0.96116563,\n",
       "       0.0365154 , 0.28510622, 0.34437328, 0.40391218, 0.83365815])"
      ]
     },
     "execution_count": 271,
     "metadata": {},
     "output_type": "execute_result"
    }
   ],
   "source": [
    "np.random.random_sample(10)"
   ]
  },
  {
   "cell_type": "code",
   "execution_count": 273,
   "id": "fc27c5a3-4940-4cc6-92f2-47556aeb9b2c",
   "metadata": {},
   "outputs": [
    {
     "data": {
      "text/plain": [
       "array([[0.2402924 , 0.00190255, 0.62713873, 0.78918774, 0.44643455],\n",
       "       [0.86113294, 0.34409882, 0.51941661, 0.13491738, 0.44235995],\n",
       "       [0.13324781, 0.9742624 , 0.21062443, 0.31435411, 0.02171168]])"
      ]
     },
     "execution_count": 273,
     "metadata": {},
     "output_type": "execute_result"
    }
   ],
   "source": [
    "np.random.random_sample((3,5))"
   ]
  },
  {
   "cell_type": "markdown",
   "id": "f242f22d-8a6f-41ff-96e7-a4a1bba8b5e6",
   "metadata": {},
   "source": [
    "#### 13.6 np.random.uniform()"
   ]
  },
  {
   "cell_type": "code",
   "execution_count": null,
   "id": "388d8057-8c2d-40fc-817f-f0f82d15d57d",
   "metadata": {},
   "outputs": [],
   "source": [
    "np.random.uniform(start_val, end_val, size = shape)"
   ]
  },
  {
   "cell_type": "code",
   "execution_count": 275,
   "id": "a6bdf3be-8770-424f-b001-45d82c953a73",
   "metadata": {},
   "outputs": [
    {
     "data": {
      "text/plain": [
       "array([11.27929381, 12.02485483, 11.61871759, 14.09455048, 10.58161399])"
      ]
     },
     "execution_count": 275,
     "metadata": {},
     "output_type": "execute_result"
    }
   ],
   "source": [
    "np.random.uniform(10,15, size = 5)"
   ]
  },
  {
   "cell_type": "code",
   "execution_count": 277,
   "id": "c9a86adb-2856-482d-b18d-3b4b4fb80ef3",
   "metadata": {},
   "outputs": [
    {
     "data": {
      "text/plain": [
       "array([[11.4930536 , 14.54208729, 12.55631954, 12.00492043, 14.34434511],\n",
       "       [10.4182232 , 12.15442518, 14.78300808, 10.57031549, 12.39386318],\n",
       "       [10.34578376, 10.00621274, 12.87985277, 14.45256655, 11.39501324],\n",
       "       [14.41273822, 10.33535178, 11.31190822, 11.96327374, 14.17023751]])"
      ]
     },
     "execution_count": 277,
     "metadata": {},
     "output_type": "execute_result"
    }
   ],
   "source": [
    "np.random.uniform(10,15, size = (4,5))"
   ]
  },
  {
   "cell_type": "code",
   "execution_count": 279,
   "id": "5cdce714-f175-4379-a8ef-eb61c76284c2",
   "metadata": {},
   "outputs": [
    {
     "data": {
      "text/plain": [
       "array([[0.97252968, 0.97006445, 0.54448309, 0.47917148, 0.93997643],\n",
       "       [0.76611195, 0.7271727 , 0.86269903, 0.20064139, 0.34972512],\n",
       "       [0.03664672, 0.01040408, 0.39117514, 0.30098301, 0.1503366 ],\n",
       "       [0.74377079, 0.8793549 , 0.47495034, 0.81119209, 0.52838482]])"
      ]
     },
     "execution_count": 279,
     "metadata": {},
     "output_type": "execute_result"
    }
   ],
   "source": [
    "np.random.uniform(0,1, size = (4,5))"
   ]
  },
  {
   "cell_type": "markdown",
   "id": "5bb40aaf-094f-4bc4-92d2-7a18ae574526",
   "metadata": {},
   "source": [
    "### 13.6 np.random.choice()"
   ]
  },
  {
   "cell_type": "code",
   "execution_count": 281,
   "id": "09bec141-95fa-4ea7-8fd4-fa53d92db559",
   "metadata": {},
   "outputs": [
    {
     "data": {
      "text/plain": [
       "array([11.27929381, 12.02485483, 11.61871759, 14.09455048, 10.58161399])"
      ]
     },
     "execution_count": 281,
     "metadata": {},
     "output_type": "execute_result"
    }
   ],
   "source": [
    "arr1 = np.array([11.27929381, 12.02485483, 11.61871759, 14.09455048, 10.58161399])\n",
    "arr1"
   ]
  },
  {
   "cell_type": "code",
   "execution_count": 282,
   "id": "816636b3-ca0b-46f2-9366-5867e28c287a",
   "metadata": {},
   "outputs": [
    {
     "data": {
      "text/plain": [
       "11.61871759"
      ]
     },
     "execution_count": 282,
     "metadata": {},
     "output_type": "execute_result"
    }
   ],
   "source": [
    "np.random.choice(arr1)"
   ]
  },
  {
   "cell_type": "code",
   "execution_count": 284,
   "id": "032b6b18-f765-4e08-a447-c09af730c085",
   "metadata": {},
   "outputs": [
    {
     "data": {
      "text/plain": [
       "14.09455048"
      ]
     },
     "execution_count": 284,
     "metadata": {},
     "output_type": "execute_result"
    }
   ],
   "source": [
    "np.random.choice(arr1)"
   ]
  },
  {
   "cell_type": "markdown",
   "id": "cd7b061e-96ae-40cf-a884-09fc1fe39021",
   "metadata": {},
   "source": [
    "#### 13.7 np.random.seed()"
   ]
  },
  {
   "cell_type": "code",
   "execution_count": null,
   "id": "4a0cf679-a1f3-4f3a-bba0-7399f6b6b1de",
   "metadata": {},
   "outputs": [],
   "source": [
    "np.random.seed()"
   ]
  },
  {
   "cell_type": "code",
   "execution_count": 306,
   "id": "c7375c58-c35e-4ca8-8983-a53d800285f9",
   "metadata": {},
   "outputs": [
    {
     "name": "stdout",
     "output_type": "stream",
     "text": [
      "[15 10 13 13 17]\n"
     ]
    },
    {
     "data": {
      "text/plain": [
       "array([19, 29, 28, 14, 16])"
      ]
     },
     "execution_count": 306,
     "metadata": {},
     "output_type": "execute_result"
    }
   ],
   "source": [
    "np.random.seed(0)\n",
    "print(np.random.randint(10,20,size = 5))\n",
    "np.random.randint(10,30,size = 5)"
   ]
  },
  {
   "cell_type": "markdown",
   "id": "84a265c0-7a93-4188-a853-9a618d0fe9e0",
   "metadata": {},
   "source": [
    "### 14. sort()"
   ]
  },
  {
   "cell_type": "code",
   "execution_count": 309,
   "id": "9a1e8a04-4727-4ae6-af7b-e759ab5fcd55",
   "metadata": {},
   "outputs": [
    {
     "data": {
      "text/plain": [
       "array([14, 16, 19, 28, 29])"
      ]
     },
     "execution_count": 309,
     "metadata": {},
     "output_type": "execute_result"
    }
   ],
   "source": [
    "array1 = np.array([19, 29, 28, 14, 16])\n",
    "\n",
    "np.sort(array1)"
   ]
  },
  {
   "cell_type": "code",
   "execution_count": null,
   "id": "b50957d7-0270-4ca6-840c-834605420831",
   "metadata": {},
   "outputs": [],
   "source": [
    "array1 = np.array([19, 29, 28, 14, 16])\n",
    "\n",
    "np.sort(array1)"
   ]
  },
  {
   "cell_type": "code",
   "execution_count": 312,
   "id": "b883e46a-4318-4dc5-b06b-3ffaa7e0cb1e",
   "metadata": {},
   "outputs": [
    {
     "data": {
      "text/plain": [
       "array([[19, 28, 29],\n",
       "       [14, 16, 20]])"
      ]
     },
     "execution_count": 312,
     "metadata": {},
     "output_type": "execute_result"
    }
   ],
   "source": [
    "array1 = np.array([[19, 29, 28], [20,14, 16]])\n",
    "array1\n",
    "np.sort(array1)"
   ]
  },
  {
   "cell_type": "code",
   "execution_count": 317,
   "id": "16821aa3-9e18-40fe-92b2-1ff6c11ba144",
   "metadata": {},
   "outputs": [
    {
     "data": {
      "text/plain": [
       "array([14, 16, 19, 20, 28, 29])"
      ]
     },
     "execution_count": 317,
     "metadata": {},
     "output_type": "execute_result"
    }
   ],
   "source": [
    "array1 = np.array([[19, 29, 28], [20,14, 16]])\n",
    "array1\n",
    "np.sort(array1,axis = None)"
   ]
  },
  {
   "cell_type": "code",
   "execution_count": 319,
   "id": "618f0a3e-f913-4d58-bbdf-dd45e8274f40",
   "metadata": {},
   "outputs": [],
   "source": [
    "# !pip install scipy"
   ]
  }
 ],
 "metadata": {
  "kernelspec": {
   "display_name": "Python 3 (ipykernel)",
   "language": "python",
   "name": "python3"
  },
  "language_info": {
   "codemirror_mode": {
    "name": "ipython",
    "version": 3
   },
   "file_extension": ".py",
   "mimetype": "text/x-python",
   "name": "python",
   "nbconvert_exporter": "python",
   "pygments_lexer": "ipython3",
   "version": "3.12.1"
  }
 },
 "nbformat": 4,
 "nbformat_minor": 5
}
