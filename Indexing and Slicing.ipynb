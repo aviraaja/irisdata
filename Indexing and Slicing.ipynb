{
 "cells": [
  {
   "cell_type": "markdown",
   "id": "ee256340-cd30-440e-96f2-03cc212e62cf",
   "metadata": {},
   "source": [
    "### Indexing and Slicing"
   ]
  },
  {
   "cell_type": "code",
   "execution_count": 1,
   "id": "b0e5dcca-90da-4c2a-bf77-1b0979e57bc0",
   "metadata": {},
   "outputs": [],
   "source": [
    "import numpy as np"
   ]
  },
  {
   "cell_type": "code",
   "execution_count": 3,
   "id": "c0ad1c73-3888-4643-a6e9-3df2aa223105",
   "metadata": {},
   "outputs": [
    {
     "data": {
      "text/plain": [
       "array([3, 6, 7, 8, 9, 2])"
      ]
     },
     "execution_count": 3,
     "metadata": {},
     "output_type": "execute_result"
    }
   ],
   "source": [
    "array = np.array([3,6,7,8,9,2])\n",
    "array"
   ]
  },
  {
   "cell_type": "code",
   "execution_count": 5,
   "id": "874e4323-a25c-4c97-9623-7381bf2ea4e9",
   "metadata": {},
   "outputs": [
    {
     "data": {
      "text/plain": [
       "3"
      ]
     },
     "execution_count": 5,
     "metadata": {},
     "output_type": "execute_result"
    }
   ],
   "source": [
    "array[0]"
   ]
  },
  {
   "cell_type": "code",
   "execution_count": 7,
   "id": "0f2a5800-90ac-4f3e-989b-3aa66afe58ee",
   "metadata": {},
   "outputs": [
    {
     "data": {
      "text/plain": [
       "6"
      ]
     },
     "execution_count": 7,
     "metadata": {},
     "output_type": "execute_result"
    }
   ],
   "source": [
    "array[1]"
   ]
  },
  {
   "cell_type": "code",
   "execution_count": 10,
   "id": "1fa80174-4e00-4bf5-897a-f33eae20d951",
   "metadata": {},
   "outputs": [
    {
     "data": {
      "text/plain": [
       "2"
      ]
     },
     "execution_count": 10,
     "metadata": {},
     "output_type": "execute_result"
    }
   ],
   "source": [
    "array[-1]"
   ]
  },
  {
   "cell_type": "code",
   "execution_count": 12,
   "id": "fb13f135-d97c-4c83-b3fd-eeef53e41e7e",
   "metadata": {},
   "outputs": [
    {
     "data": {
      "text/plain": [
       "9"
      ]
     },
     "execution_count": 12,
     "metadata": {},
     "output_type": "execute_result"
    }
   ],
   "source": [
    "array = np.array([3,6,7,8,9,2])\n",
    "array[-2]"
   ]
  },
  {
   "cell_type": "code",
   "execution_count": 14,
   "id": "1da10eec-0f9d-4903-9ae5-496e49e8e704",
   "metadata": {},
   "outputs": [
    {
     "data": {
      "text/plain": [
       "array([[3, 6, 7],\n",
       "       [8, 9, 2]])"
      ]
     },
     "execution_count": 14,
     "metadata": {},
     "output_type": "execute_result"
    }
   ],
   "source": [
    "array = np.array([[3,6,7],[8,9,2]])\n",
    "array"
   ]
  },
  {
   "cell_type": "code",
   "execution_count": 16,
   "id": "ee1a15e6-0b91-4973-b330-1d84ca1d4e1e",
   "metadata": {},
   "outputs": [
    {
     "data": {
      "text/plain": [
       "8"
      ]
     },
     "execution_count": 16,
     "metadata": {},
     "output_type": "execute_result"
    }
   ],
   "source": [
    "array = np.array([[3,6,7],[8,9,2]])\n",
    "array[1][0]"
   ]
  },
  {
   "cell_type": "code",
   "execution_count": 18,
   "id": "b288d1fd-754e-49e5-97d0-86ff2b7975a8",
   "metadata": {},
   "outputs": [
    {
     "data": {
      "text/plain": [
       "2"
      ]
     },
     "execution_count": 18,
     "metadata": {},
     "output_type": "execute_result"
    }
   ],
   "source": [
    "array = np.array([[3,6,7],[8,9,2]])\n",
    "array[1][-1]"
   ]
  },
  {
   "cell_type": "code",
   "execution_count": 19,
   "id": "fe326d37-9107-4ac8-9b03-633a21a2379a",
   "metadata": {},
   "outputs": [
    {
     "data": {
      "text/plain": [
       "2"
      ]
     },
     "execution_count": 19,
     "metadata": {},
     "output_type": "execute_result"
    }
   ],
   "source": [
    "array = np.array([[3,6,7],[8,9,2]])\n",
    "array[1,-1]"
   ]
  },
  {
   "cell_type": "code",
   "execution_count": 22,
   "id": "02a50e29-2604-4caa-a776-8a2c6e687453",
   "metadata": {},
   "outputs": [
    {
     "data": {
      "text/plain": [
       "2"
      ]
     },
     "execution_count": 22,
     "metadata": {},
     "output_type": "execute_result"
    }
   ],
   "source": [
    "x = [[3,6,7],[8,9,2]]\n",
    "x[1][-1]"
   ]
  },
  {
   "cell_type": "code",
   "execution_count": 24,
   "id": "dd147c13-c313-4e37-be74-b51bc1065aa5",
   "metadata": {},
   "outputs": [
    {
     "ename": "TypeError",
     "evalue": "list indices must be integers or slices, not tuple",
     "output_type": "error",
     "traceback": [
      "\u001b[1;31m---------------------------------------------------------------------------\u001b[0m",
      "\u001b[1;31mTypeError\u001b[0m                                 Traceback (most recent call last)",
      "Cell \u001b[1;32mIn[24], line 2\u001b[0m\n\u001b[0;32m      1\u001b[0m x \u001b[38;5;241m=\u001b[39m [[\u001b[38;5;241m3\u001b[39m,\u001b[38;5;241m6\u001b[39m,\u001b[38;5;241m7\u001b[39m],[\u001b[38;5;241m8\u001b[39m,\u001b[38;5;241m9\u001b[39m,\u001b[38;5;241m2\u001b[39m]]\n\u001b[1;32m----> 2\u001b[0m \u001b[43mx\u001b[49m\u001b[43m[\u001b[49m\u001b[38;5;241;43m1\u001b[39;49m\u001b[43m,\u001b[49m\u001b[38;5;241;43m-\u001b[39;49m\u001b[38;5;241;43m1\u001b[39;49m\u001b[43m]\u001b[49m\n",
      "\u001b[1;31mTypeError\u001b[0m: list indices must be integers or slices, not tuple"
     ]
    }
   ],
   "source": [
    "x = [[3,6,7],[8,9,2]]\n",
    "x[1,-1]"
   ]
  },
  {
   "cell_type": "code",
   "execution_count": 26,
   "id": "b4e286a3-1c04-4e59-b680-12215b1cb62c",
   "metadata": {},
   "outputs": [
    {
     "data": {
      "text/plain": [
       "array([6, 7, 8])"
      ]
     },
     "execution_count": 26,
     "metadata": {},
     "output_type": "execute_result"
    }
   ],
   "source": [
    "array = np.array([3,6,7,8,9,2])\n",
    "array[1:4]"
   ]
  },
  {
   "cell_type": "code",
   "execution_count": 29,
   "id": "03475fab-a52a-450a-be93-0b3492ae9f73",
   "metadata": {},
   "outputs": [
    {
     "data": {
      "text/plain": [
       "array([6, 7, 8])"
      ]
     },
     "execution_count": 29,
     "metadata": {},
     "output_type": "execute_result"
    }
   ],
   "source": [
    "array = np.array([3,6,7,8,9,2])\n",
    "array[-5:-2]# -5,-4,-3"
   ]
  },
  {
   "cell_type": "code",
   "execution_count": 30,
   "id": "ba10391d-709e-4d7b-9545-c65dde32d1a4",
   "metadata": {},
   "outputs": [
    {
     "data": {
      "text/plain": [
       "array([3, 6, 7, 8, 9, 2])"
      ]
     },
     "execution_count": 30,
     "metadata": {},
     "output_type": "execute_result"
    }
   ],
   "source": [
    "array = np.array([3,6,7,8,9,2])\n",
    "array[::1]"
   ]
  },
  {
   "cell_type": "code",
   "execution_count": 32,
   "id": "77d9544b-2bff-40d6-a481-7119b0e332b7",
   "metadata": {},
   "outputs": [
    {
     "data": {
      "text/plain": [
       "array([2, 9, 8, 7, 6, 3])"
      ]
     },
     "execution_count": 32,
     "metadata": {},
     "output_type": "execute_result"
    }
   ],
   "source": [
    "array = np.array([3,6,7,8,9,2])\n",
    "array[::-1]"
   ]
  },
  {
   "cell_type": "code",
   "execution_count": 34,
   "id": "bc76d1ce-0278-4079-ae3b-e33213010c76",
   "metadata": {},
   "outputs": [
    {
     "data": {
      "text/plain": [
       "array([9, 8])"
      ]
     },
     "execution_count": 34,
     "metadata": {},
     "output_type": "execute_result"
    }
   ],
   "source": [
    "array = np.array([3,6,7,8,9,2])\n",
    "array[4:2:-1] # "
   ]
  },
  {
   "cell_type": "code",
   "execution_count": 37,
   "id": "50f08253-40f5-4fdf-af8a-9086e09601df",
   "metadata": {},
   "outputs": [
    {
     "data": {
      "text/plain": [
       "array([[ 3,  6,  7,  8],\n",
       "       [ 9,  2,  1,  7],\n",
       "       [10, 20, 30, 40]])"
      ]
     },
     "execution_count": 37,
     "metadata": {},
     "output_type": "execute_result"
    }
   ],
   "source": [
    "array = np.array([[3,6,7,8],[9,2,1,7],[10,20,30,40]])\n",
    "array"
   ]
  },
  {
   "cell_type": "code",
   "execution_count": 38,
   "id": "9c9e284d-6de6-41f0-8568-ff2fd4ded2ce",
   "metadata": {},
   "outputs": [
    {
     "data": {
      "text/plain": [
       "20"
      ]
     },
     "execution_count": 38,
     "metadata": {},
     "output_type": "execute_result"
    }
   ],
   "source": [
    "array[2,1]"
   ]
  },
  {
   "cell_type": "code",
   "execution_count": 41,
   "id": "fb3e68ab-b810-4d58-b44c-4883cf418c30",
   "metadata": {},
   "outputs": [
    {
     "name": "stdout",
     "output_type": "stream",
     "text": [
      "[[ 3  6  7  8]\n",
      " [ 9  2  1  7]\n",
      " [10 20 30 40]]\n"
     ]
    },
    {
     "data": {
      "text/plain": [
       "array([[ 3,  6,  7,  8],\n",
       "       [ 9,  2,  1,  7],\n",
       "       [10, 20, 30, 40]])"
      ]
     },
     "execution_count": 41,
     "metadata": {},
     "output_type": "execute_result"
    }
   ],
   "source": [
    "array = np.array([[3,6,7,8],[9,2,1,7],[10,20,30,40]])\n",
    "print(array)\n",
    "array[:,:]"
   ]
  },
  {
   "cell_type": "code",
   "execution_count": 47,
   "id": "70d4c71a-a843-4d27-92a1-01b0f805ea95",
   "metadata": {},
   "outputs": [
    {
     "name": "stdout",
     "output_type": "stream",
     "text": [
      "[[ 3  6  7  8]\n",
      " [ 9  2  1  7]\n",
      " [10 20 30 40]]\n"
     ]
    },
    {
     "data": {
      "text/plain": [
       "1"
      ]
     },
     "execution_count": 47,
     "metadata": {},
     "output_type": "execute_result"
    }
   ],
   "source": [
    "array = np.array([[3,6,7,8],[9,2,1,7],[10,20,30,40]])\n",
    "print(array)\n",
    "array[1,2]"
   ]
  },
  {
   "cell_type": "code",
   "execution_count": null,
   "id": "4364c931-6ab4-4e13-a50b-bdea63d06779",
   "metadata": {},
   "outputs": [],
   "source": []
  },
  {
   "cell_type": "code",
   "execution_count": 46,
   "id": "d290fe97-126e-4c82-a187-b7860a38f3af",
   "metadata": {},
   "outputs": [
    {
     "data": {
      "text/plain": [
       "2"
      ]
     },
     "execution_count": 46,
     "metadata": {},
     "output_type": "execute_result"
    }
   ],
   "source": [
    "array = np.array([[3,6,7,8],[9,2,1,7],[10,20,30,40]])\n",
    "array[1,1]"
   ]
  },
  {
   "cell_type": "code",
   "execution_count": 49,
   "id": "71b5416e-7fab-4ea4-8072-d58ca7497983",
   "metadata": {},
   "outputs": [
    {
     "data": {
      "text/plain": [
       "array([9, 2, 1, 7])"
      ]
     },
     "execution_count": 49,
     "metadata": {},
     "output_type": "execute_result"
    }
   ],
   "source": [
    "array = np.array([[3,6,7,8],[9,2,1,7],[10,20,30,40]])\n",
    "array[1,:]"
   ]
  },
  {
   "cell_type": "code",
   "execution_count": 50,
   "id": "fa0145c6-6b28-4022-a4f5-102650a82c3b",
   "metadata": {},
   "outputs": [
    {
     "data": {
      "text/plain": [
       "array([[ 3,  6,  7,  8],\n",
       "       [ 9,  2,  1,  7],\n",
       "       [10, 20, 30, 40]])"
      ]
     },
     "execution_count": 50,
     "metadata": {},
     "output_type": "execute_result"
    }
   ],
   "source": [
    "array = np.array([[3,6,7,8],[9,2,1,7],[10,20,30,40]])\n",
    "array"
   ]
  },
  {
   "cell_type": "code",
   "execution_count": 52,
   "id": "f4743b93-4056-49de-885e-9b2818b34ef2",
   "metadata": {},
   "outputs": [
    {
     "data": {
      "text/plain": [
       "array([ 7,  1, 30])"
      ]
     },
     "execution_count": 52,
     "metadata": {},
     "output_type": "execute_result"
    }
   ],
   "source": [
    "array = np.array([[3,6,7,8],[9,2,1,7],[10,20,30,40]])\n",
    "array[:,2]"
   ]
  },
  {
   "cell_type": "code",
   "execution_count": 53,
   "id": "acac9752-4e9f-4da9-96cd-7869a09654b9",
   "metadata": {},
   "outputs": [
    {
     "data": {
      "text/plain": [
       "array([20, 30])"
      ]
     },
     "execution_count": 53,
     "metadata": {},
     "output_type": "execute_result"
    }
   ],
   "source": [
    "array = np.array([[3,6,7,8],[9,2,1,7],[10,20,30,40]])\n",
    "array[2, 1:3]"
   ]
  },
  {
   "cell_type": "code",
   "execution_count": 54,
   "id": "90683586-9220-45a2-a1e4-4bb16d7223a1",
   "metadata": {},
   "outputs": [
    {
     "data": {
      "text/plain": [
       "array([[ 3,  6,  7,  8],\n",
       "       [ 9,  2,  1,  7],\n",
       "       [10, 20, 30, 40]])"
      ]
     },
     "execution_count": 54,
     "metadata": {},
     "output_type": "execute_result"
    }
   ],
   "source": [
    "array = np.array([[3,6,7,8],[9,2,1,7],[10,20,30,40]])\n",
    "array"
   ]
  },
  {
   "cell_type": "code",
   "execution_count": 55,
   "id": "01986375-1fbb-4ade-9823-d62c4d036e4e",
   "metadata": {},
   "outputs": [
    {
     "data": {
      "text/plain": [
       "array([[6, 7],\n",
       "       [2, 1]])"
      ]
     },
     "execution_count": 55,
     "metadata": {},
     "output_type": "execute_result"
    }
   ],
   "source": [
    "array[0:2,1:3]"
   ]
  },
  {
   "cell_type": "code",
   "execution_count": 57,
   "id": "af92e65b-f6b7-47e5-a826-e8c3d7a34e82",
   "metadata": {},
   "outputs": [
    {
     "data": {
      "text/plain": [
       "array([[6, 7],\n",
       "       [2, 1]])"
      ]
     },
     "execution_count": 57,
     "metadata": {},
     "output_type": "execute_result"
    }
   ],
   "source": [
    "array[-3:-1,1:3]"
   ]
  },
  {
   "cell_type": "code",
   "execution_count": 61,
   "id": "17dbab3f-4499-4840-a8d2-d5d0e468c3da",
   "metadata": {},
   "outputs": [
    {
     "data": {
      "text/plain": [
       "array([[[ 3,  6,  7,  8],\n",
       "        [ 9,  2,  1,  7]],\n",
       "\n",
       "       [[10, 20, 30, 40],\n",
       "        [30, 60, 70, 80]]])"
      ]
     },
     "execution_count": 61,
     "metadata": {},
     "output_type": "execute_result"
    }
   ],
   "source": [
    "array3 = np.array([[[3,6,7,8],[9,2,1,7]],[[10,20,30,40],[30,60,70,80]]])\n",
    "array3"
   ]
  },
  {
   "cell_type": "code",
   "execution_count": 63,
   "id": "a4a24f3a-f929-472b-a71b-db6cff922c15",
   "metadata": {},
   "outputs": [
    {
     "data": {
      "text/plain": [
       "(2, 2, 4)"
      ]
     },
     "execution_count": 63,
     "metadata": {},
     "output_type": "execute_result"
    }
   ],
   "source": [
    "array3.shape # 2,2,4"
   ]
  },
  {
   "cell_type": "code",
   "execution_count": 65,
   "id": "543d6558-ba29-4d03-a3c6-36e2f2b51199",
   "metadata": {},
   "outputs": [
    {
     "data": {
      "text/plain": [
       "array([[10, 20, 30, 40],\n",
       "       [30, 60, 70, 80]])"
      ]
     },
     "execution_count": 65,
     "metadata": {},
     "output_type": "execute_result"
    }
   ],
   "source": [
    "array3[1]"
   ]
  },
  {
   "cell_type": "code",
   "execution_count": 67,
   "id": "1f35d877-b9f2-45e3-b2a0-268a8065ad74",
   "metadata": {},
   "outputs": [
    {
     "data": {
      "text/plain": [
       "30"
      ]
     },
     "execution_count": 67,
     "metadata": {},
     "output_type": "execute_result"
    }
   ],
   "source": [
    "array3[1,0,2]"
   ]
  },
  {
   "cell_type": "code",
   "execution_count": 69,
   "id": "fa045d98-6e3b-4677-8896-2e4e82846560",
   "metadata": {},
   "outputs": [
    {
     "data": {
      "text/plain": [
       "array([[[ 3,  6,  7,  8],\n",
       "        [ 9,  2,  1,  7]],\n",
       "\n",
       "       [[10, 20, 30, 40],\n",
       "        [30, 60, 70, 80]]])"
      ]
     },
     "execution_count": 69,
     "metadata": {},
     "output_type": "execute_result"
    }
   ],
   "source": [
    "array3 = np.array([[[3,6,7,8],[9,2,1,7]],[[10,20,30,40],[30,60,70,80]]])\n",
    "array3"
   ]
  },
  {
   "cell_type": "code",
   "execution_count": 70,
   "id": "4ab5120f-a3dd-4a04-8ce1-2c07d65b1ce7",
   "metadata": {},
   "outputs": [
    {
     "data": {
      "text/plain": [
       "array([20, 30, 40])"
      ]
     },
     "execution_count": 70,
     "metadata": {},
     "output_type": "execute_result"
    }
   ],
   "source": [
    "array3[1,0,1:]"
   ]
  },
  {
   "cell_type": "code",
   "execution_count": 72,
   "id": "7b45b799-8449-4c1b-ab7d-0202d252b795",
   "metadata": {},
   "outputs": [
    {
     "data": {
      "text/plain": [
       "array([[ 2,  1],\n",
       "       [60, 70]])"
      ]
     },
     "execution_count": 72,
     "metadata": {},
     "output_type": "execute_result"
    }
   ],
   "source": [
    "array3[:,1,1:-1]"
   ]
  },
  {
   "cell_type": "code",
   "execution_count": 74,
   "id": "b86bb368-c1c3-4e45-8df2-e220f76047d7",
   "metadata": {},
   "outputs": [
    {
     "data": {
      "text/plain": [
       "array([[[ 6,  7],\n",
       "        [ 2,  1]],\n",
       "\n",
       "       [[20, 30],\n",
       "        [60, 70]]])"
      ]
     },
     "execution_count": 74,
     "metadata": {},
     "output_type": "execute_result"
    }
   ],
   "source": [
    "array3[:,:,1:-1]"
   ]
  },
  {
   "cell_type": "code",
   "execution_count": null,
   "id": "79a896e5-cb3d-454e-b9b7-3c2cb7f7ca44",
   "metadata": {},
   "outputs": [],
   "source": []
  },
  {
   "cell_type": "markdown",
   "id": "89529cdb-2e36-407d-8ac5-d1f50f60ea63",
   "metadata": {},
   "source": [
    "### Access items using for Loop"
   ]
  },
  {
   "cell_type": "code",
   "execution_count": 75,
   "id": "98261d09-07bc-45e5-b87b-ee4561bfff45",
   "metadata": {},
   "outputs": [
    {
     "data": {
      "text/plain": [
       "array([3, 6, 7, 8, 9, 2])"
      ]
     },
     "execution_count": 75,
     "metadata": {},
     "output_type": "execute_result"
    }
   ],
   "source": [
    "array1 = np.array([3,6,7,8,9,2])\n",
    "array1"
   ]
  },
  {
   "cell_type": "code",
   "execution_count": 77,
   "id": "17c5a4ff-c77d-49d6-8300-f8c0b12e60d5",
   "metadata": {},
   "outputs": [
    {
     "name": "stdout",
     "output_type": "stream",
     "text": [
      "3\n",
      "6\n",
      "7\n",
      "8\n",
      "9\n",
      "2\n"
     ]
    }
   ],
   "source": [
    "for i in array1:\n",
    "    print(i)"
   ]
  },
  {
   "cell_type": "code",
   "execution_count": 79,
   "id": "362e2c76-6f45-4dfa-8b7b-ca5ebf12d74d",
   "metadata": {},
   "outputs": [
    {
     "name": "stdout",
     "output_type": "stream",
     "text": [
      "[3 6 7]\n",
      "[8 9 2]\n"
     ]
    }
   ],
   "source": [
    "array2 = np.array([[3,6,7],[8,9,2]])\n",
    "for i in array2:\n",
    "    print(i)"
   ]
  },
  {
   "cell_type": "code",
   "execution_count": 81,
   "id": "0209c571-aab6-4b2f-a619-0f5ea06b089b",
   "metadata": {},
   "outputs": [
    {
     "name": "stdout",
     "output_type": "stream",
     "text": [
      "3\n",
      "6\n",
      "7\n",
      "8\n",
      "9\n",
      "2\n"
     ]
    }
   ],
   "source": [
    "array2 = np.array([[3,6,7],[8,9,2]])\n",
    "for i in array2:\n",
    "    for j in i:\n",
    "        print(j)"
   ]
  },
  {
   "cell_type": "code",
   "execution_count": 86,
   "id": "a284c9ee-0220-4af3-9045-caf676ef06f7",
   "metadata": {},
   "outputs": [
    {
     "name": "stdout",
     "output_type": "stream",
     "text": [
      "[[3 6 7]\n",
      " [8 9 2]]\n",
      "********\n",
      "[[31 61 71]\n",
      " [81 19 12]]\n",
      "********\n"
     ]
    }
   ],
   "source": [
    "array3 = np.array([[[3,6,7],[8,9,2]],[[31,61,71],[81,19,12]]])\n",
    "for i in array3:\n",
    "    print(i)\n",
    "    print(\"********\")"
   ]
  },
  {
   "cell_type": "code",
   "execution_count": 88,
   "id": "968e0273-73b0-4801-8d03-1a98142ebb2c",
   "metadata": {},
   "outputs": [
    {
     "name": "stdout",
     "output_type": "stream",
     "text": [
      "3\n",
      "6\n",
      "7\n",
      "8\n",
      "9\n",
      "2\n",
      "31\n",
      "61\n",
      "71\n",
      "81\n",
      "19\n",
      "12\n"
     ]
    }
   ],
   "source": [
    "array3 = np.array([[[3,6,7],[8,9,2]],[[31,61,71],[81,19,12]]])\n",
    "for i in array3:\n",
    "    for j in i:\n",
    "        for k in j:\n",
    "            print(k)"
   ]
  },
  {
   "cell_type": "code",
   "execution_count": 91,
   "id": "d91cc6d5-e4e6-493e-98f9-2b2a4ddc770d",
   "metadata": {},
   "outputs": [
    {
     "name": "stdout",
     "output_type": "stream",
     "text": [
      "3\n",
      "6\n",
      "7\n",
      "8\n",
      "9\n",
      "2\n",
      "31\n",
      "61\n",
      "71\n",
      "81\n",
      "19\n",
      "12\n"
     ]
    }
   ],
   "source": [
    "array3 = np.array([[[3,6,7],[8,9,2]],[[31,61,71],[81,19,12]]])\n",
    "for i in array3.reshape(array3.size):\n",
    "    print(i)"
   ]
  },
  {
   "cell_type": "markdown",
   "id": "c679bc0a-b6d8-403a-a823-b2ecfd8b083b",
   "metadata": {},
   "source": [
    "### 1. np.nditer()"
   ]
  },
  {
   "cell_type": "code",
   "execution_count": 93,
   "id": "4c44130a-fb78-42d3-b65e-a7162989c2a7",
   "metadata": {},
   "outputs": [
    {
     "name": "stdout",
     "output_type": "stream",
     "text": [
      "3\n",
      "6\n",
      "7\n",
      "8\n",
      "9\n",
      "2\n"
     ]
    }
   ],
   "source": [
    "array1 = np.array([3,6,7,8,9,2])\n",
    "for i in np.nditer(array1):\n",
    "    print(i)"
   ]
  },
  {
   "cell_type": "code",
   "execution_count": 95,
   "id": "e0958c01-90a3-4b8c-9ac0-f005d77bc6c2",
   "metadata": {},
   "outputs": [
    {
     "name": "stdout",
     "output_type": "stream",
     "text": [
      "3\n",
      "6\n",
      "7\n",
      "8\n",
      "9\n",
      "2\n"
     ]
    }
   ],
   "source": [
    "array2 = np.array([[3,6,7],[8,9,2]])\n",
    "for i in np.nditer(array2):\n",
    "    print(i)"
   ]
  },
  {
   "cell_type": "code",
   "execution_count": 112,
   "id": "9daa382a-daa3-491e-9c0b-aa51cbed4b55",
   "metadata": {},
   "outputs": [
    {
     "name": "stdout",
     "output_type": "stream",
     "text": [
      "3\n",
      "6\n",
      "7\n",
      "8\n",
      "9\n",
      "2\n",
      "31\n",
      "61\n",
      "71\n",
      "81\n",
      "19\n",
      "12\n"
     ]
    }
   ],
   "source": [
    "array3 = np.array([[[3,6,7],[8,9,2]],[[31,61,71],[81,19,12]]])\n",
    "for i in np.nditer(array3):\n",
    "    print(i)"
   ]
  },
  {
   "cell_type": "markdown",
   "id": "0f9eb07b-fe90-45da-aa37-2f429b147af8",
   "metadata": {},
   "source": [
    "### 2. np.ndenumerate()"
   ]
  },
  {
   "cell_type": "code",
   "execution_count": 101,
   "id": "e89c9ad7-1f70-4015-b94a-e64e9f102899",
   "metadata": {},
   "outputs": [
    {
     "name": "stdout",
     "output_type": "stream",
     "text": [
      "(0,) 3\n",
      "(1,) 6\n",
      "(2,) 7\n",
      "(3,) 8\n",
      "(4,) 9\n",
      "(5,) 2\n"
     ]
    }
   ],
   "source": [
    "array1 = np.array([3,6,7,8,9,2])\n",
    "for index,val in np.ndenumerate(array1):\n",
    "    print(index, val)"
   ]
  },
  {
   "cell_type": "code",
   "execution_count": 103,
   "id": "cdaa91f3-2857-46c5-b052-966b6f5c442c",
   "metadata": {},
   "outputs": [
    {
     "data": {
      "text/plain": [
       "array([[3, 6, 7],\n",
       "       [8, 9, 2]])"
      ]
     },
     "execution_count": 103,
     "metadata": {},
     "output_type": "execute_result"
    }
   ],
   "source": [
    "array2 = np.array([[3,6,7],[8,9,2]])\n",
    "array2"
   ]
  },
  {
   "cell_type": "code",
   "execution_count": 104,
   "id": "d8e767b1-8831-4293-bd72-be8593d74634",
   "metadata": {},
   "outputs": [
    {
     "data": {
      "text/plain": [
       "3"
      ]
     },
     "execution_count": 104,
     "metadata": {},
     "output_type": "execute_result"
    }
   ],
   "source": [
    "array2[0,0]"
   ]
  },
  {
   "cell_type": "code",
   "execution_count": 107,
   "id": "20b751a0-c145-46e9-bc08-7e2b5fcf7488",
   "metadata": {},
   "outputs": [
    {
     "name": "stdout",
     "output_type": "stream",
     "text": [
      "(0, 0) >> 3\n",
      "(0, 1) >> 6\n",
      "(0, 2) >> 7\n",
      "(1, 0) >> 8\n",
      "(1, 1) >> 9\n",
      "(1, 2) >> 2\n"
     ]
    }
   ],
   "source": [
    "array2 = np.array([[3,6,7],[8,9,2]])\n",
    "for index,val in np.ndenumerate(array2):\n",
    "    print(index,\">>\",val)"
   ]
  },
  {
   "cell_type": "code",
   "execution_count": 109,
   "id": "e3e215de-ad48-425b-9590-7176f9b3370b",
   "metadata": {},
   "outputs": [
    {
     "name": "stdout",
     "output_type": "stream",
     "text": [
      "(0, 0, 0) >> 3\n",
      "(0, 0, 1) >> 6\n",
      "(0, 0, 2) >> 7\n",
      "(0, 1, 0) >> 8\n",
      "(0, 1, 1) >> 9\n",
      "(0, 1, 2) >> 2\n",
      "(1, 0, 0) >> 31\n",
      "(1, 0, 1) >> 61\n",
      "(1, 0, 2) >> 71\n",
      "(1, 1, 0) >> 81\n",
      "(1, 1, 1) >> 19\n",
      "(1, 1, 2) >> 12\n"
     ]
    }
   ],
   "source": [
    "array3 = np.array([[[3,6,7],[8,9,2]],[[31,61,71],[81,19,12]]])\n",
    "for index,val in np.ndenumerate(array3):\n",
    "    print(index,\">>\",val)"
   ]
  },
  {
   "cell_type": "code",
   "execution_count": 111,
   "id": "dad25e1a-a9db-4743-99a9-5854932b50e0",
   "metadata": {},
   "outputs": [
    {
     "data": {
      "text/plain": [
       "71"
      ]
     },
     "execution_count": 111,
     "metadata": {},
     "output_type": "execute_result"
    }
   ],
   "source": [
    "array3[1, 0, 2]"
   ]
  },
  {
   "cell_type": "code",
   "execution_count": null,
   "id": "69f909fd-26d3-46ad-a80b-b918587bbd69",
   "metadata": {},
   "outputs": [],
   "source": []
  }
 ],
 "metadata": {
  "kernelspec": {
   "display_name": "Python 3 (ipykernel)",
   "language": "python",
   "name": "python3"
  },
  "language_info": {
   "codemirror_mode": {
    "name": "ipython",
    "version": 3
   },
   "file_extension": ".py",
   "mimetype": "text/x-python",
   "name": "python",
   "nbconvert_exporter": "python",
   "pygments_lexer": "ipython3",
   "version": "3.11.6"
  }
 },
 "nbformat": 4,
 "nbformat_minor": 5
}
