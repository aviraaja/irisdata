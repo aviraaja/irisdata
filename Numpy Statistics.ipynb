{
 "cells": [
  {
   "cell_type": "markdown",
   "id": "a0586948-ad27-48f6-a118-c7e86dae8a54",
   "metadata": {},
   "source": [
    "### Statistics"
   ]
  },
  {
   "cell_type": "code",
   "execution_count": null,
   "id": "a768ab8d-4bfb-4199-b967-0a4e92efc1b7",
   "metadata": {},
   "outputs": [],
   "source": [
    "1. np.mean()\n",
    "2. np.median()\n",
    "3. np.var()\n",
    "4. np.std()\n",
    "5. np.min()\n",
    "6. np.max()\n",
    "7. np.sum()"
   ]
  },
  {
   "cell_type": "code",
   "execution_count": 1,
   "id": "3209e361-522d-449f-a44d-7fa9d18d829f",
   "metadata": {},
   "outputs": [],
   "source": [
    "import numpy as np"
   ]
  },
  {
   "cell_type": "code",
   "execution_count": 3,
   "id": "942fab4f-a2d4-4f7d-81a5-4e6eef71144c",
   "metadata": {},
   "outputs": [
    {
     "data": {
      "text/plain": [
       "array([2, 3, 4, 5])"
      ]
     },
     "execution_count": 3,
     "metadata": {},
     "output_type": "execute_result"
    }
   ],
   "source": [
    "array1 = np.array([2,3,4,5])\n",
    "array1"
   ]
  },
  {
   "cell_type": "markdown",
   "id": "f176d15f-12fa-4d4f-a36d-14b2a6d3a5a7",
   "metadata": {},
   "source": [
    "### 1.np.sum"
   ]
  },
  {
   "cell_type": "code",
   "execution_count": 4,
   "id": "4f39ed51-c342-480f-806d-311cf88cff61",
   "metadata": {},
   "outputs": [
    {
     "data": {
      "text/plain": [
       "array([2, 3, 4, 5])"
      ]
     },
     "execution_count": 4,
     "metadata": {},
     "output_type": "execute_result"
    }
   ],
   "source": [
    "array1 = np.array([2,3,4,5])\n",
    "array1"
   ]
  },
  {
   "cell_type": "code",
   "execution_count": 6,
   "id": "62e3af8e-08ae-4599-a71a-ccee328a786f",
   "metadata": {},
   "outputs": [
    {
     "data": {
      "text/plain": [
       "14"
      ]
     },
     "execution_count": 6,
     "metadata": {},
     "output_type": "execute_result"
    }
   ],
   "source": [
    "np.sum(array1)"
   ]
  },
  {
   "cell_type": "code",
   "execution_count": 7,
   "id": "a5dc8a9a-4e32-438d-9e2a-d0d7f0629fa2",
   "metadata": {},
   "outputs": [
    {
     "data": {
      "text/plain": [
       "3.5"
      ]
     },
     "execution_count": 7,
     "metadata": {},
     "output_type": "execute_result"
    }
   ],
   "source": [
    "np.sum(array1) / array1.size"
   ]
  },
  {
   "cell_type": "markdown",
   "id": "b8ecdd47-75a3-417b-95e0-08db9f55a902",
   "metadata": {},
   "source": [
    "### 2. np.mean()"
   ]
  },
  {
   "cell_type": "code",
   "execution_count": 8,
   "id": "bf728509-f8fa-4119-b222-681a178a5cef",
   "metadata": {},
   "outputs": [
    {
     "data": {
      "text/plain": [
       "array([2, 3, 4, 5])"
      ]
     },
     "execution_count": 8,
     "metadata": {},
     "output_type": "execute_result"
    }
   ],
   "source": [
    "array1 = np.array([2,3,4,5])\n",
    "array1"
   ]
  },
  {
   "cell_type": "code",
   "execution_count": 9,
   "id": "31b2caa5-6cf3-4b75-9a13-019514abc166",
   "metadata": {},
   "outputs": [
    {
     "data": {
      "text/plain": [
       "3.5"
      ]
     },
     "execution_count": 9,
     "metadata": {},
     "output_type": "execute_result"
    }
   ],
   "source": [
    "np.mean(array1)"
   ]
  },
  {
   "cell_type": "code",
   "execution_count": 10,
   "id": "cd96def5-e141-4180-a174-c71de9e8ffe5",
   "metadata": {},
   "outputs": [
    {
     "data": {
      "text/plain": [
       "array([29, 31, 20, 29, 21, 22, 33, 11, 21, 21])"
      ]
     },
     "execution_count": 10,
     "metadata": {},
     "output_type": "execute_result"
    }
   ],
   "source": [
    "array2 = np.random.randint(10,40,size = 10)\n",
    "array2"
   ]
  },
  {
   "cell_type": "code",
   "execution_count": 11,
   "id": "b11a3eb3-78a7-4f0b-873d-d7fc6c5e17cf",
   "metadata": {},
   "outputs": [
    {
     "data": {
      "text/plain": [
       "23.8"
      ]
     },
     "execution_count": 11,
     "metadata": {},
     "output_type": "execute_result"
    }
   ],
   "source": [
    "np.mean(array2)"
   ]
  },
  {
   "cell_type": "code",
   "execution_count": 14,
   "id": "5f19e11d-48a2-410f-b3e4-b4d44f04f411",
   "metadata": {},
   "outputs": [
    {
     "data": {
      "text/plain": [
       "26.9"
      ]
     },
     "execution_count": 14,
     "metadata": {},
     "output_type": "execute_result"
    }
   ],
   "source": [
    "array2 = np.random.randint(10,40,size = 10)\n",
    "np.mean(array2)"
   ]
  },
  {
   "cell_type": "markdown",
   "id": "f4b65628-b3cd-488c-9c41-e3761e31d399",
   "metadata": {},
   "source": [
    "### 3. np.min"
   ]
  },
  {
   "cell_type": "code",
   "execution_count": 17,
   "id": "43b17040-3cdd-47e7-a178-b0b47dc25c6e",
   "metadata": {},
   "outputs": [
    {
     "data": {
      "text/plain": [
       "11"
      ]
     },
     "execution_count": 17,
     "metadata": {},
     "output_type": "execute_result"
    }
   ],
   "source": [
    "array3 = np.array([29, 31, 20, 29, 21, 22, 33, 11, 21, 21])\n",
    "np.min(array3)"
   ]
  },
  {
   "cell_type": "markdown",
   "id": "8ca56f17-380b-4681-8918-39b4d58c3e1d",
   "metadata": {},
   "source": [
    "### 4. np.max()"
   ]
  },
  {
   "cell_type": "code",
   "execution_count": 19,
   "id": "5adf56e0-f182-47ca-bab5-9e518d9ce2ec",
   "metadata": {},
   "outputs": [
    {
     "data": {
      "text/plain": [
       "33"
      ]
     },
     "execution_count": 19,
     "metadata": {},
     "output_type": "execute_result"
    }
   ],
   "source": [
    "array3 = np.array([29, 31, 20, 29, 21, 22, 33, 11, 21, 21])\n",
    "np.max(array3)"
   ]
  },
  {
   "cell_type": "code",
   "execution_count": null,
   "id": "3fc80193-e168-4a38-a7ba-b09a5c3438a7",
   "metadata": {},
   "outputs": [],
   "source": []
  },
  {
   "cell_type": "markdown",
   "id": "82208ebc-c1b7-4426-949e-0ad48bb1e122",
   "metadata": {},
   "source": [
    "### 5. median()"
   ]
  },
  {
   "cell_type": "code",
   "execution_count": null,
   "id": "7e89bca1-9340-473e-92a8-143a837a6ea2",
   "metadata": {},
   "outputs": [],
   "source": [
    "np.array([4,2,6,8,1,5,7])"
   ]
  },
  {
   "cell_type": "code",
   "execution_count": null,
   "id": "e2501c4c-0460-4fc3-a9fe-5a8253f2f8b6",
   "metadata": {},
   "outputs": [],
   "source": [
    "1,2,4,5,6,7,8"
   ]
  },
  {
   "cell_type": "code",
   "execution_count": 21,
   "id": "44ae659c-2494-427a-ba63-ffc071b0090e",
   "metadata": {},
   "outputs": [
    {
     "data": {
      "text/plain": [
       "5.0"
      ]
     },
     "execution_count": 21,
     "metadata": {},
     "output_type": "execute_result"
    }
   ],
   "source": [
    "array2 = np.array([4,2,6,8,1,5,7])\n",
    "np.median(array2)"
   ]
  },
  {
   "cell_type": "code",
   "execution_count": 29,
   "id": "6265fb08-a772-48a8-9053-5d66364a3ef2",
   "metadata": {},
   "outputs": [
    {
     "name": "stdout",
     "output_type": "stream",
     "text": [
      "5 6\n"
     ]
    },
    {
     "data": {
      "text/plain": [
       "5.5"
      ]
     },
     "execution_count": 29,
     "metadata": {},
     "output_type": "execute_result"
    }
   ],
   "source": [
    "array2 = np.array([4,2,6,8,1,5,7,9])\n",
    "# 1,2,4,5,6,7,8,9\n",
    "array = np.sort(array2)\n",
    "array\n",
    "print(array[3],array[4])\n",
    "(array[3] + array[4])/2"
   ]
  },
  {
   "cell_type": "code",
   "execution_count": 33,
   "id": "c470456a-74c8-4eb8-a39e-947ffa637142",
   "metadata": {},
   "outputs": [
    {
     "data": {
      "text/plain": [
       "5"
      ]
     },
     "execution_count": 33,
     "metadata": {},
     "output_type": "execute_result"
    }
   ],
   "source": [
    "array2 = np.array([4,2,6,8,1,5,7])\n",
    "array = np.sort(array2)\n",
    "array[array.size//2]"
   ]
  },
  {
   "cell_type": "code",
   "execution_count": 34,
   "id": "1ecc8d83-4d4e-4f5d-94e9-afc1b1583780",
   "metadata": {},
   "outputs": [
    {
     "data": {
      "text/plain": [
       "array([ 4.,  2., nan,  8.,  1.,  5.,  7.])"
      ]
     },
     "execution_count": 34,
     "metadata": {},
     "output_type": "execute_result"
    }
   ],
   "source": [
    "array2 = np.array([4,2,np.nan,8,1,5,7])\n",
    "array2"
   ]
  },
  {
   "cell_type": "code",
   "execution_count": null,
   "id": "33c9ebcb-b03c-42cc-a4d3-6e7171fbecae",
   "metadata": {},
   "outputs": [],
   "source": [
    "Missing values\n",
    "Outliers handling"
   ]
  },
  {
   "cell_type": "code",
   "execution_count": 38,
   "id": "04ce8844-5263-4c4f-80d0-cb10e8f21aff",
   "metadata": {},
   "outputs": [
    {
     "data": {
      "text/plain": [
       "array([ 4.,  2., nan,  8.,  1.,  5.,  7.,  9., 60.])"
      ]
     },
     "execution_count": 38,
     "metadata": {},
     "output_type": "execute_result"
    }
   ],
   "source": [
    "array2 = np.array([4,2,np.nan,8,1,5,7,9,60])\n",
    "array2"
   ]
  },
  {
   "cell_type": "code",
   "execution_count": 39,
   "id": "1d2c1077-d435-468a-92ee-bd8a9641699a",
   "metadata": {},
   "outputs": [
    {
     "data": {
      "text/plain": [
       "array([ 4,  2,  6,  8,  1,  5,  7,  9, 60])"
      ]
     },
     "execution_count": 39,
     "metadata": {},
     "output_type": "execute_result"
    }
   ],
   "source": [
    "array2 = np.array([4,2,6,8,1,5,7,9,60])\n",
    "array2"
   ]
  },
  {
   "cell_type": "code",
   "execution_count": 41,
   "id": "b8d5a7c0-2c27-4fe3-8dd9-6e1042c9e457",
   "metadata": {},
   "outputs": [
    {
     "data": {
      "text/plain": [
       "11.333333333333334"
      ]
     },
     "execution_count": 41,
     "metadata": {},
     "output_type": "execute_result"
    }
   ],
   "source": [
    "np.mean(array2)"
   ]
  },
  {
   "cell_type": "code",
   "execution_count": 42,
   "id": "48ce0888-2ca4-4733-b1a3-988a641b4ff0",
   "metadata": {},
   "outputs": [
    {
     "data": {
      "text/plain": [
       "6.0"
      ]
     },
     "execution_count": 42,
     "metadata": {},
     "output_type": "execute_result"
    }
   ],
   "source": [
    "array2 = np.array([4,2,6,8,1,5,7,9,60])\n",
    "np.median(array2)"
   ]
  },
  {
   "cell_type": "markdown",
   "id": "5bd8442c-74d3-4cf9-bf8c-90dbc83123c3",
   "metadata": {},
   "source": [
    "### 6. standard deviation"
   ]
  },
  {
   "cell_type": "code",
   "execution_count": null,
   "id": "3b24dff6-8f4b-4cbb-81e9-da6394ba613d",
   "metadata": {},
   "outputs": [],
   "source": [
    "std = (sum(Xi - Xmean)^2) ** 0.5"
   ]
  },
  {
   "cell_type": "code",
   "execution_count": 44,
   "id": "8db1b7de-4d16-45bf-abf8-8b83fed928a7",
   "metadata": {},
   "outputs": [
    {
     "data": {
      "text/plain": [
       "5.25"
      ]
     },
     "execution_count": 44,
     "metadata": {},
     "output_type": "execute_result"
    }
   ],
   "source": [
    "array2 = np.array([4,2,6,8,1,5,7,9])\n",
    "np.mean(array2)"
   ]
  },
  {
   "cell_type": "code",
   "execution_count": 49,
   "id": "ea6b0ef0-ee03-41c6-bfce-0b96603853d3",
   "metadata": {},
   "outputs": [
    {
     "data": {
      "text/plain": [
       "2.6339134382131846"
      ]
     },
     "execution_count": 49,
     "metadata": {},
     "output_type": "execute_result"
    }
   ],
   "source": [
    "np.std(array2)"
   ]
  },
  {
   "cell_type": "code",
   "execution_count": null,
   "id": "f9599963-fa95-4f54-8790-f7c72a69eba2",
   "metadata": {},
   "outputs": [],
   "source": []
  },
  {
   "cell_type": "code",
   "execution_count": 51,
   "id": "4dfd98be-2b00-4427-baa5-202777d55e2a",
   "metadata": {},
   "outputs": [
    {
     "data": {
      "text/plain": [
       "5.0"
      ]
     },
     "execution_count": 51,
     "metadata": {},
     "output_type": "execute_result"
    }
   ],
   "source": [
    "array2 = np.array([5,5,5,5,5,5,5])\n",
    "np.mean(array2)"
   ]
  },
  {
   "cell_type": "code",
   "execution_count": 52,
   "id": "be366e7f-ec43-4a67-8b22-100dc17b5d13",
   "metadata": {},
   "outputs": [
    {
     "data": {
      "text/plain": [
       "0.0"
      ]
     },
     "execution_count": 52,
     "metadata": {},
     "output_type": "execute_result"
    }
   ],
   "source": [
    "array2 = np.array([5,5,5,5,5,5,5])\n",
    "np.std(array2)"
   ]
  },
  {
   "cell_type": "markdown",
   "id": "c9567685-6787-42c0-9ca5-1df80f16ad9d",
   "metadata": {},
   "source": [
    "### 7. variance"
   ]
  },
  {
   "cell_type": "code",
   "execution_count": null,
   "id": "46b787ee-c102-4343-8661-21ee0f87bd23",
   "metadata": {},
   "outputs": [],
   "source": [
    "var = (sum(Xi - Xmean)^2)"
   ]
  },
  {
   "cell_type": "code",
   "execution_count": 47,
   "id": "95404408-10d4-4e8b-bed3-3495dc10acbf",
   "metadata": {},
   "outputs": [
    {
     "data": {
      "text/plain": [
       "2.6339134382131846"
      ]
     },
     "execution_count": 47,
     "metadata": {},
     "output_type": "execute_result"
    }
   ],
   "source": [
    "np.std(array2)"
   ]
  },
  {
   "cell_type": "code",
   "execution_count": 53,
   "id": "fce2e11d-8a8e-4845-a914-a9773ba8a728",
   "metadata": {},
   "outputs": [
    {
     "data": {
      "text/plain": [
       "0.0"
      ]
     },
     "execution_count": 53,
     "metadata": {},
     "output_type": "execute_result"
    }
   ],
   "source": [
    "np.var(array2)"
   ]
  },
  {
   "cell_type": "code",
   "execution_count": 54,
   "id": "c6154353-a2e1-49e8-b7f6-a09095445c72",
   "metadata": {},
   "outputs": [
    {
     "data": {
      "text/plain": [
       "0.0"
      ]
     },
     "execution_count": 54,
     "metadata": {},
     "output_type": "execute_result"
    }
   ],
   "source": [
    "array2 = np.array([5,5,5,5,5,5,5])\n",
    "np.var(array2)"
   ]
  },
  {
   "cell_type": "code",
   "execution_count": 57,
   "id": "25978d29-70b2-4aec-88ff-1885c42b3631",
   "metadata": {},
   "outputs": [
    {
     "name": "stderr",
     "output_type": "stream",
     "text": [
      "C:\\Users\\rahul\\AppData\\Local\\Temp\\ipykernel_22752\\2328535728.py:2: UserWarning: Dataset has 0 variance; skipping density estimate. Pass `warn_singular=False` to disable this warning.\n",
      "  sns.kdeplot(array2)\n"
     ]
    },
    {
     "data": {
      "text/plain": [
       "<Axes: ylabel='Density'>"
      ]
     },
     "execution_count": 57,
     "metadata": {},
     "output_type": "execute_result"
    },
    {
     "data": {
      "image/png": "[encoded data removed]",
      "text/plain": [
       "<Figure size 640x480 with 1 Axes>"
      ]
     },
     "metadata": {},
     "output_type": "display_data"
    }
   ],
   "source": [
    "import seaborn as sns\n",
    "sns.kdeplot(array2)"
   ]
  },
  {
   "cell_type": "code",
   "execution_count": 59,
   "id": "25010d5e-20f6-4200-a8ec-58eb19925436",
   "metadata": {},
   "outputs": [
    {
     "data": {
      "text/plain": [
       "<Axes: ylabel='Density'>"
      ]
     },
     "execution_count": 59,
     "metadata": {},
     "output_type": "execute_result"
    },
    {
     "data": {
      "image/png": "[encoded data removed]",
      "text/plain": [
       "<Figure size 640x480 with 1 Axes>"
      ]
     },
     "metadata": {},
     "output_type": "display_data"
    }
   ],
   "source": [
    "array2 = np.array([5,6,7,8,8,5,5])\n",
    "sns.kdeplot(array2)"
   ]
  },
  {
   "cell_type": "markdown",
   "id": "668da45b-11d5-4252-a511-a9b2bdf85564",
   "metadata": {},
   "source": [
    "### mode"
   ]
  },
  {
   "cell_type": "code",
   "execution_count": null,
   "id": "6867c145-a9c2-4c35-ad20-6cff0858b536",
   "metadata": {},
   "outputs": [],
   "source": [
    "Most frequent value from an array\n",
    "\n",
    "Categorical "
   ]
  },
  {
   "cell_type": "code",
   "execution_count": 63,
   "id": "9999906c-4f96-44a6-8dd1-d646643c5e1f",
   "metadata": {},
   "outputs": [],
   "source": [
    "from scipy.stats import mode"
   ]
  },
  {
   "cell_type": "code",
   "execution_count": 70,
   "id": "dbde13f3-3b80-4ad2-83f2-e800cb867ec8",
   "metadata": {},
   "outputs": [
    {
     "data": {
      "text/plain": [
       "ModeResult(mode=5, count=3)"
      ]
     },
     "execution_count": 70,
     "metadata": {},
     "output_type": "execute_result"
    }
   ],
   "source": [
    "array2 = np.array([5,6,7,8,8,5,5]) # 5\n",
    "mode(array2) "
   ]
  },
  {
   "cell_type": "code",
   "execution_count": 71,
   "id": "ca750535-94d9-40e5-ae4d-c03a9dba2a12",
   "metadata": {},
   "outputs": [
    {
     "data": {
      "text/plain": [
       "5"
      ]
     },
     "execution_count": 71,
     "metadata": {},
     "output_type": "execute_result"
    }
   ],
   "source": [
    "array2 = np.array([5,6,7,8,8,5,5]) # 5\n",
    "mode(array2)[0]"
   ]
  },
  {
   "cell_type": "code",
   "execution_count": 72,
   "id": "78110bd2-be25-4869-a192-29e9366ce4d2",
   "metadata": {},
   "outputs": [
    {
     "data": {
      "text/plain": [
       "ModeResult(mode=5, count=3)"
      ]
     },
     "execution_count": 72,
     "metadata": {},
     "output_type": "execute_result"
    }
   ],
   "source": [
    "array2 = np.array([5,6,7,8,8,8,5,5]) # 5\n",
    "mode(array2) "
   ]
  },
  {
   "cell_type": "code",
   "execution_count": 73,
   "id": "42673ca4-136d-424c-ac35-e9b6e11caddf",
   "metadata": {},
   "outputs": [
    {
     "data": {
      "text/plain": [
       "5"
      ]
     },
     "execution_count": 73,
     "metadata": {},
     "output_type": "execute_result"
    }
   ],
   "source": [
    "array2 = np.array([5,6,7,8,8,8,5,5]) # 5\n",
    "mode(array2)[0]"
   ]
  },
  {
   "cell_type": "code",
   "execution_count": 67,
   "id": "d19a0f46-9053-45af-b17d-6a1e0d674f59",
   "metadata": {},
   "outputs": [
    {
     "data": {
      "text/plain": [
       "ModeResult(mode=8, count=4)"
      ]
     },
     "execution_count": 67,
     "metadata": {},
     "output_type": "execute_result"
    }
   ],
   "source": [
    "array2 = np.array([5,6,7,8,8,8,8,5,5]) # 8\n",
    "mode(array2) "
   ]
  },
  {
   "cell_type": "code",
   "execution_count": 68,
   "id": "3a63e40c-88c3-403e-b4f6-b6c5b6a8075e",
   "metadata": {},
   "outputs": [
    {
     "data": {
      "text/plain": [
       "ModeResult(mode=3, count=1)"
      ]
     },
     "execution_count": 68,
     "metadata": {},
     "output_type": "execute_result"
    }
   ],
   "source": [
    "array2 = np.array([4,5,6,7,8,3]) # 3\n",
    "mode(array2) "
   ]
  }
 ],
 "metadata": {
  "kernelspec": {
   "display_name": "Python 3 (ipykernel)",
   "language": "python",
   "name": "python3"
  },
  "language_info": {
   "codemirror_mode": {
    "name": "ipython",
    "version": 3
   },
   "file_extension": ".py",
   "mimetype": "text/x-python",
   "name": "python",
   "nbconvert_exporter": "python",
   "pygments_lexer": "ipython3",
   "version": "3.11.6"
  }
 },
 "nbformat": 4,
 "nbformat_minor": 5
}
