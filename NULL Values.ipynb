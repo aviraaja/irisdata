{
 "cells": [
  {
   "cell_type": "code",
   "execution_count": 1,
   "id": "90d088c6-a3de-4af9-a952-67f93996597a",
   "metadata": {},
   "outputs": [],
   "source": [
    "import numpy as np"
   ]
  },
  {
   "cell_type": "markdown",
   "id": "e478f631-88bf-483e-9e3c-926bc64845fe",
   "metadata": {},
   "source": [
    "### Null Values"
   ]
  },
  {
   "cell_type": "code",
   "execution_count": 2,
   "id": "87715a5d-ea85-41b4-aef3-973964b98fa0",
   "metadata": {},
   "outputs": [
    {
     "data": {
      "text/plain": [
       "nan"
      ]
     },
     "execution_count": 2,
     "metadata": {},
     "output_type": "execute_result"
    }
   ],
   "source": [
    "NULL Value >> Missing Values >> np.nan\n",
    "\n",
    "Datatype of np.nan will be Float"
   ]
  },
  {
   "cell_type": "code",
   "execution_count": null,
   "id": "68cb0590-d024-4b52-a68c-0b9c3ab45fc1",
   "metadata": {},
   "outputs": [],
   "source": [
    "1. np.isnan()\n",
    "2. np.nanmean()\n",
    "2. np.nanmedian()\n",
    "2. np.nanstd()\n",
    "2. np.nanvar()\n",
    "2. np.nanmin()\n",
    "2. np.nanmax()\n",
    "2. np.nansum()"
   ]
  },
  {
   "cell_type": "code",
   "execution_count": 4,
   "id": "142e67e0-7d80-4e79-a143-56d96199fcab",
   "metadata": {},
   "outputs": [
    {
     "data": {
      "text/plain": [
       "array([ 3.,  4.,  5.,  6., nan,  1.,  2.,  3.])"
      ]
     },
     "execution_count": 4,
     "metadata": {},
     "output_type": "execute_result"
    }
   ],
   "source": [
    "array1 = np.array([3,4,5,6,np.nan,1,2,3])\n",
    "array1"
   ]
  },
  {
   "cell_type": "code",
   "execution_count": 6,
   "id": "f6a743c9-db0e-4850-a9e6-9a8f27d5e86f",
   "metadata": {},
   "outputs": [
    {
     "data": {
      "text/plain": [
       "nan"
      ]
     },
     "execution_count": 6,
     "metadata": {},
     "output_type": "execute_result"
    }
   ],
   "source": [
    "np.mean(array1)"
   ]
  },
  {
   "cell_type": "code",
   "execution_count": 8,
   "id": "4f418db5-78fa-4520-a8e9-f08ea4576b7f",
   "metadata": {},
   "outputs": [
    {
     "data": {
      "text/plain": [
       "nan"
      ]
     },
     "execution_count": 8,
     "metadata": {},
     "output_type": "execute_result"
    }
   ],
   "source": [
    "np.median(array1)"
   ]
  },
  {
   "cell_type": "markdown",
   "id": "2bf736aa-8518-4cc7-aca2-046e828e4068",
   "metadata": {},
   "source": [
    "### 1. isnan"
   ]
  },
  {
   "cell_type": "code",
   "execution_count": 12,
   "id": "9b0bc612-0475-4603-99cb-f982d8692be6",
   "metadata": {},
   "outputs": [
    {
     "data": {
      "text/plain": [
       "array([False,  True, False, False,  True, False, False, False])"
      ]
     },
     "execution_count": 12,
     "metadata": {},
     "output_type": "execute_result"
    }
   ],
   "source": [
    "array1 = np.array([3,np.nan,5,6,np.nan,1,2,3])\n",
    "np.isnan(array1)\n"
   ]
  },
  {
   "cell_type": "code",
   "execution_count": 16,
   "id": "54ed0fc8-5a3d-47d4-9298-a2927f179cd4",
   "metadata": {},
   "outputs": [
    {
     "data": {
      "text/plain": [
       "8"
      ]
     },
     "execution_count": 16,
     "metadata": {},
     "output_type": "execute_result"
    }
   ],
   "source": [
    "array1 = np.array([3,np.nan,5,6,np.nan,1,2,3,0,0,0])\n",
    "\n",
    "np.count_nonzero(array1)"
   ]
  },
  {
   "cell_type": "markdown",
   "id": "ce4e252c-3647-40a8-b617-931602e1e735",
   "metadata": {},
   "source": [
    "### 2. np.nanmean()"
   ]
  },
  {
   "cell_type": "code",
   "execution_count": 18,
   "id": "605b5964-1a87-4a9f-8750-93da747d3cab",
   "metadata": {},
   "outputs": [
    {
     "data": {
      "text/plain": [
       "3.3333333333333335"
      ]
     },
     "execution_count": 18,
     "metadata": {},
     "output_type": "execute_result"
    }
   ],
   "source": [
    "array1 = np.array([3,np.nan,5,6,np.nan,1,2,3])\n",
    "np.nanmean(array1)"
   ]
  },
  {
   "cell_type": "code",
   "execution_count": 20,
   "id": "ab4b4598-06ec-4dda-8809-bb2150e1756e",
   "metadata": {},
   "outputs": [
    {
     "data": {
      "text/plain": [
       "3.0"
      ]
     },
     "execution_count": 20,
     "metadata": {},
     "output_type": "execute_result"
    }
   ],
   "source": [
    "array1 = np.array([3,np.nan,5,6,np.nan,1,2,3])\n",
    "np.nanmedian(array1)"
   ]
  },
  {
   "cell_type": "code",
   "execution_count": 22,
   "id": "b9a78cc5-0be5-4393-aefe-92eae9eceff9",
   "metadata": {},
   "outputs": [
    {
     "data": {
      "text/plain": [
       "1.699673171197595"
      ]
     },
     "execution_count": 22,
     "metadata": {},
     "output_type": "execute_result"
    }
   ],
   "source": [
    "array1 = np.array([3,np.nan,5,6,np.nan,1,2,3])\n",
    "np.nanstd(array1)"
   ]
  },
  {
   "cell_type": "code",
   "execution_count": 24,
   "id": "a4eaf549-8f10-4a99-9332-32a1958b2dcc",
   "metadata": {},
   "outputs": [
    {
     "data": {
      "text/plain": [
       "2.888888888888889"
      ]
     },
     "execution_count": 24,
     "metadata": {},
     "output_type": "execute_result"
    }
   ],
   "source": [
    "array1 = np.array([3,np.nan,5,6,np.nan,1,2,3])\n",
    "np.nanvar(array1)"
   ]
  },
  {
   "cell_type": "code",
   "execution_count": 26,
   "id": "ed8fbd32-9ae7-482d-a03f-20e60a729a67",
   "metadata": {},
   "outputs": [
    {
     "data": {
      "text/plain": [
       "1.0"
      ]
     },
     "execution_count": 26,
     "metadata": {},
     "output_type": "execute_result"
    }
   ],
   "source": [
    "array1 = np.array([3,np.nan,5,6,np.nan,1,2,3])\n",
    "np.nanmin(array1)"
   ]
  },
  {
   "cell_type": "code",
   "execution_count": 28,
   "id": "c1db46d9-98fb-4fc5-a0bc-61cea4f534a9",
   "metadata": {},
   "outputs": [
    {
     "data": {
      "text/plain": [
       "nan"
      ]
     },
     "execution_count": 28,
     "metadata": {},
     "output_type": "execute_result"
    }
   ],
   "source": [
    "array1 = np.array([3,np.nan,5,6,np.nan,1,2,3])\n",
    "np.min(array1)"
   ]
  },
  {
   "cell_type": "code",
   "execution_count": 30,
   "id": "308847b4-24f2-4130-bb6f-afecaa4e5ebe",
   "metadata": {},
   "outputs": [
    {
     "data": {
      "text/plain": [
       "6.0"
      ]
     },
     "execution_count": 30,
     "metadata": {},
     "output_type": "execute_result"
    }
   ],
   "source": [
    "array1 = np.array([3,np.nan,5,6,np.nan,1,2,3])\n",
    "np.nanmax(array1)"
   ]
  },
  {
   "cell_type": "code",
   "execution_count": 31,
   "id": "ee0354f8-22df-4483-9941-c500730e8fbb",
   "metadata": {},
   "outputs": [
    {
     "data": {
      "text/plain": [
       "20.0"
      ]
     },
     "execution_count": 31,
     "metadata": {},
     "output_type": "execute_result"
    }
   ],
   "source": [
    "array1 = np.array([3,np.nan,5,6,np.nan,1,2,3])\n",
    "np.nansum(array1)"
   ]
  },
  {
   "cell_type": "code",
   "execution_count": null,
   "id": "5c227893-35da-496e-b05c-5bc914a8df34",
   "metadata": {},
   "outputs": [],
   "source": []
  },
  {
   "cell_type": "code",
   "execution_count": null,
   "id": "dfda4fe7-edb2-4de9-a880-50302382add0",
   "metadata": {},
   "outputs": [],
   "source": []
  },
  {
   "cell_type": "code",
   "execution_count": null,
   "id": "adfdff22-e9ee-464e-9e06-09474d1fd555",
   "metadata": {},
   "outputs": [],
   "source": []
  }
 ],
 "metadata": {
  "kernelspec": {
   "display_name": "Python 3 (ipykernel)",
   "language": "python",
   "name": "python3"
  },
  "language_info": {
   "codemirror_mode": {
    "name": "ipython",
    "version": 3
   },
   "file_extension": ".py",
   "mimetype": "text/x-python",
   "name": "python",
   "nbconvert_exporter": "python",
   "pygments_lexer": "ipython3",
   "version": "3.11.6"
  }
 },
 "nbformat": 4,
 "nbformat_minor": 5
}
